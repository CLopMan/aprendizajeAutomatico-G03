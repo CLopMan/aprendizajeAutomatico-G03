{
  "cells": [
    {
      "cell_type": "markdown",
      "metadata": {
        "id": "GAmL3Bb2Fvi0"
      },
      "source": [
        "# **Modelos de clasificación - Grupo03**"
      ]
    },
    {
      "cell_type": "markdown",
      "metadata": {
        "id": "YK4sxHUBFvcY"
      },
      "source": [
        "## **Authors**\n",
        "\n",
        "- César López Mantecón - 100472092\n",
        "- Manuel Gómez-Plana Rodríguez - 100472310\n",
        "\n"
      ]
    },
    {
      "cell_type": "markdown",
      "metadata": {
        "id": "EW5DK7qyFvRJ"
      },
      "source": [
        "## **Repositorio**\n",
        "\n",
        "Esta práctica se ha llevado a cabo en este [repositorio de github](https://github.com/CLopMan/aprendizajeAutomatico-G03)\n",
        "\n",
        "## **Introducción**\n",
        "\n",
        "En este cuaderno se resolverá un problema similar. Las instancias de energía se han clasificado en \"low\" o \"high\" según si su valor es inferior o superior al valor del tercer cuartil. En este cuaderno trataremos de entrenar un modelo capaz de clasificar nuevas instancias en estas clases.\n",
        "\n",
        "# **1. Transformación de datos**\n",
        "\n",
        "El primer paso para el problema de clasificación es aplicar una transformación a la variable de salida. Es por ello que calculamos el tercer cuantil y transformamos la variable de salida respecto a este.  "
      ]
    },
    {
      "cell_type": "code",
      "execution_count": 34,
      "metadata": {
        "colab": {
          "base_uri": "https://localhost:8080/"
        },
        "id": "jt1inLnmd3ic",
        "outputId": "3fdfb4c1-e304-4581-9623-d1747856846e"
      },
      "outputs": [],
      "source": [
        "#from google.colab import drive\n",
        "#drive.mount('/content/drive')"
      ]
    },
    {
      "cell_type": "code",
      "execution_count": 35,
      "metadata": {
        "id": "-K8Crt_AFmtB"
      },
      "outputs": [],
      "source": [
        "import pandas as pd\n",
        "\n",
        "#raw_data = pd.read_csv(\"/content/drive/MyDrive/wind_ava.csv\") # cambiar para la entrega final\n",
        "raw_data = pd.read_csv(\"wind_ava.csv.gz\", compression='gzip')\n",
        "sotavento = raw_data.filter(regex='13$|energy|datetime') # eliminacion de instancias no referentes a Sotavento\n",
        "\n",
        "Q3 = sotavento[\"energy\"].quantile(0.75)\n",
        "sotavento.insert(1, \"energyTag\", [\"high\" for i in range(len(sotavento))])\n",
        "\n",
        "def myfunc(v):\n",
        "    if v < Q3:\n",
        "        return \"low\"\n",
        "    else:\n",
        "        return \"high\"\n",
        "\n",
        "cont = 0\n",
        "for i, v in enumerate(sotavento[\"energy\"]):\n",
        "    if v < Q3:\n",
        "        sotavento.loc[i, \"energyTag\"] = \"low\"\n",
        "        cont += 1\n",
        "\n",
        "sotavento = sotavento.drop(\"energy\", axis=1)"
      ]
    },
    {
      "cell_type": "markdown",
      "metadata": {
        "id": "Nu0w61LBZkxe"
      },
      "source": [
        "# **2. Clases desbalanceadas**\n",
        "\n",
        "Si observamos los valores de energyTag, la nueva columna del dataframe que indica la clase de cada instancia, podemos ver que las clases están desbalanceadas.\n"
      ]
    },
    {
      "cell_type": "code",
      "execution_count": 36,
      "metadata": {
        "colab": {
          "base_uri": "https://localhost:8080/",
          "height": 458
        },
        "id": "Rfw7t4qZZknX",
        "outputId": "28c871a6-b11a-4172-9342-00c26e62a9d5"
      },
      "outputs": [
        {
          "name": "stdout",
          "output_type": "stream",
          "text": [
            "Número de instancias 'low': 3561\n",
            "Número de instancias 'high':1187\n"
          ]
        },
        {
          "data": {
            "text/plain": [
              "<Axes: ylabel='count'>"
            ]
          },
          "execution_count": 36,
          "metadata": {},
          "output_type": "execute_result"
        },
        {
          "data": {
            "image/png": "[encoded data removed]",
            "text/plain": [
              "<Figure size 640x480 with 1 Axes>"
            ]
          },
          "metadata": {},
          "output_type": "display_data"
        }
      ],
      "source": [
        "print(f\"Número de instancias \\'low\\': {cont}\\nNúmero de instancias \\'high\\':{len(sotavento) - cont}\")\n",
        "\n",
        "sotavento[\"energyTag\"].value_counts().plot(kind=\"pie\")"
      ]
    },
    {
      "cell_type": "markdown",
      "metadata": {
        "id": "yDeoN09VZkd4"
      },
      "source": [
        "## **2.1. División entre train y test**\n",
        "Para poder balancear las clases, primero necesitaremos dividir, entre train y test los datos.\n"
      ]
    },
    {
      "cell_type": "code",
      "execution_count": 37,
      "metadata": {
        "colab": {
          "base_uri": "https://localhost:8080/"
        },
        "id": "Sr7bST3IaD4G",
        "outputId": "0d694323-a191-40b2-8bbc-a36b4df9ca9a"
      },
      "outputs": [
        {
          "name": "stdout",
          "output_type": "stream",
          "text": [
            "Hay 1099 instancias de 2008 y 2009\n"
          ]
        }
      ],
      "source": [
        "from sklearn.model_selection import train_test_split\n",
        "\n",
        "size = 0\n",
        "\n",
        "res = pd.to_datetime(sotavento[\"datetime\"], unit='ns').astype(str)\n",
        "\n",
        "for ind, data in res.items():\n",
        "  if data.startswith(\"2008\") or data.startswith(\"2009\"):\n",
        "    size += 1\n",
        "\n",
        "print(\"Hay\", str(size), \"instancias de 2008 y 2009\")\n",
        "\n",
        "# Se obtienen los datos\n",
        "X = sotavento.drop([\"energyTag\", \"datetime\"], axis=\"columns\")\n",
        "Y = sotavento[[\"energyTag\"]]\n",
        "\n",
        "train, test = train_test_split(sotavento, test_size=size, shuffle=False)\n",
        "\n",
        "X_train = train.drop([\"energyTag\", \"datetime\"], axis=\"columns\")\n",
        "Y_train = train[[\"energyTag\"]]\n",
        "X_test = test.drop([\"energyTag\", \"datetime\"], axis=\"columns\")\n",
        "Y_test = test[[\"energyTag\"]]"
      ]
    },
    {
      "cell_type": "markdown",
      "metadata": {
        "id": "qN47-JGMaEyo"
      },
      "source": [
        "## **2.2- SMOTE**\n",
        "\n",
        "Debido al desbalanceo entre clases, es necesario utilizar algún mecanismo para evitar que el modelo final esté sesgado.\n"
      ]
    },
    {
      "cell_type": "code",
      "execution_count": 38,
      "metadata": {
        "colab": {
          "base_uri": "https://localhost:8080/",
          "height": 475
        },
        "id": "3D0ejSzRaME5",
        "outputId": "939d5aaa-34e1-4d08-9744-904331314b82"
      },
      "outputs": [
        {
          "name": "stdout",
          "output_type": "stream",
          "text": [
            "Despues de SMOTE, la forma de train_X: (5492, 22)\n",
            "Después de SMOTE, la forma de train_y: (5492, 1) \n",
            "\n"
          ]
        },
        {
          "data": {
            "text/plain": [
              "<Axes: ylabel='count'>"
            ]
          },
          "execution_count": 38,
          "metadata": {},
          "output_type": "execute_result"
        },
        {
          "data": {
            "image/png": "[encoded data removed]",
            "text/plain": [
              "<Figure size 640x480 with 1 Axes>"
            ]
          },
          "metadata": {},
          "output_type": "display_data"
        }
      ],
      "source": [
        "#from imblearn.over_sampling import SMOTE\n",
        "#\n",
        "#sm = SMOTE(random_state = 100472310)\n",
        "#X_train_res, Y_train_res = sm.fit_resample(X_train, Y_train)\n",
        "#\n",
        "#print('Despues de SMOTE, la forma de train_X: {}'.format(X_train_res.shape))\n",
        "#print('Después de SMOTE, la forma de train_y: {} \\n'.format(Y_train_res.shape))\n",
        "#\n",
        "#Y_train_res.value_counts().plot(kind=\"pie\")"
      ]
    },
    {
      "cell_type": "markdown",
      "metadata": {
        "id": "PH5HEXL0aS1P"
      },
      "source": [
        "# **3. Evaluación del modelo**\n",
        "Para poder realizar modelos de clasificación, es necesario clarificar las métricas que usaremos para la evaluación inner y la evaluación outer.\n",
        "\n",
        "## **3.1 Evaluación Inner**\n",
        "\n",
        "Utilizaremos validación cruzada con k = 3 para la evaluación inner. Descartamos usar time series split debido a la nueva naturaleza del problema.\n",
        "\n",
        "## **3.2 Evaluación Outer**\n",
        "Para la evaluación outer, haremos un split dejando 2007 y 2008 para evaluar y el resto de años para entrenar.\n",
        "\n",
        "## **3.3 Métricas de evaluación**\n",
        "\n",
        "Para evaluar el modelo, utilizaremos la métrica de F1-score debido a que se trata de un problema con clases desbalanceadas. Esta métrica no es sensible al desequilibrio de clases.\n",
        "\n"
      ]
    },
    {
      "cell_type": "markdown",
      "metadata": {
        "id": "VubhVijKbHn1"
      },
      "source": [
        "# **4. Modelos de clasificación**\n",
        "En este apartado, haremos HPO con los 4 métodos, que hemos usado en el apartado anterior, comparando finalmente los modelos para elegir el mejor.\n",
        "\n",
        "## **4.1. K-folds**\n",
        "Lo primero que deberemos hacer es dividir las partes inner del problema, creando el objeto de K-folds."
      ]
    },
    {
      "cell_type": "code",
      "execution_count": 39,
      "metadata": {
        "id": "vtQ0nYYXcIpV"
      },
      "outputs": [],
      "source": [
        "from sklearn.model_selection import KFold\n",
        "\n",
        "kfold = KFold(3)\n",
        "f1_score = {}\n",
        "train_time = {}"
      ]
    },
    {
      "cell_type": "markdown",
      "metadata": {
        "id": "uW1HB4DFTUww"
      },
      "source": [
        "## **4.2. KNN**"
      ]
    },
    {
      "cell_type": "code",
      "execution_count": 45,
      "metadata": {
        "colab": {
          "base_uri": "https://localhost:8080/"
        },
        "id": "uAFelejlTAnV",
        "outputId": "f5de6ba0-357e-4f5a-d5d1-070aa83cca97"
      },
      "outputs": [
        {
          "name": "stdout",
          "output_type": "stream",
          "text": [
            "Fitting 3 folds for each of 720 candidates, totalling 2160 fits\n",
            "\n",
            "Los mejores parámetros son:\n",
            " {'knn__algorithm': 'auto', 'knn__metric': 'manhattan', 'knn__n_neighbors': 22, 'knn__weights': 'uniform'} \n",
            "\n",
            "f1-score: 0.8448799536945174\n",
            "Tiempo de entrenamiento: 29.31s.\n"
          ]
        }
      ],
      "source": [
        "# Knn\n",
        "from sklearn.neighbors import KNeighborsClassifier\n",
        "from sklearn.pipeline import Pipeline\n",
        "from sklearn.preprocessing import StandardScaler\n",
        "from sklearn.model_selection import GridSearchCV\n",
        "from time import time\n",
        "\n",
        "\n",
        "pipe = Pipeline([\n",
        "      ('scaler', StandardScaler()),\n",
        "      ('knn', KNeighborsClassifier())\n",
        "      ])\n",
        "\n",
        "# Se crean los parametros\n",
        "param_grid = {\"knn__n_neighbors\": list(range(10, 40, 1)),\n",
        "              \"knn__weights\": [\"uniform\", \"distance\"],\n",
        "              \"knn__algorithm\": [\"auto\", \"ball_tree\", \"kd_tree\", \"brute\"],\n",
        "              \"knn__metric\": [\"euclidean\", \"manhattan\", \"chebyshev\"]\n",
        "              }\n",
        "\n",
        "# Se realiza la HPO\n",
        "grid = GridSearchCV(pipe,\n",
        "                    param_grid,\n",
        "                    cv=kfold,\n",
        "                    scoring=\"f1_weighted\",\n",
        "                    verbose=1,\n",
        "                    n_jobs=-1)\n",
        "start = time()\n",
        "grid.fit(X_train, Y_train.values.ravel())\n",
        "end = time()\n",
        "\n",
        "print(\"\\nLos mejores parámetros son:\\n\", grid.best_params_, \"\\n\")\n",
        "\n",
        "\n",
        "\n",
        "f1_score[\"knn\"] = grid.best_score_\n",
        "\n",
        "print(f\"f1-score: {grid.best_score_}\")\n",
        "print(\"Tiempo de entrenamiento:\", str(round(end-start, 2)) + \"s.\")\n",
        "train_time[\"knn\"] = end - start"
      ]
    },
    {
      "cell_type": "markdown",
      "metadata": {
        "id": "4b4cP3UrbGP_"
      },
      "source": [
        "## **4.4 SVM**\n",
        "Usaremos un SVM para este apartado. De la misma manera que con el SVR, haremos la evaluación con tres modelos distintos, uno con cada tipo de kernel, para evitar combinaciones innecesarias y así ahorra tiempo de entrenamiento."
      ]
    },
    {
      "cell_type": "code",
      "execution_count": 46,
      "metadata": {
        "colab": {
          "base_uri": "https://localhost:8080/"
        },
        "id": "C5DlRNwjbGHL",
        "outputId": "8fc958bc-8883-462f-8fce-1e4e1b05b578"
      },
      "outputs": [
        {
          "name": "stdout",
          "output_type": "stream",
          "text": [
            "==========Kernel linear==========\n",
            "Fitting 3 folds for each of 6 candidates, totalling 18 fits\n",
            "\n",
            "Los mejores parámetros son:\n",
            " {'svm__C': 100, 'svm__class_weight': None} \n",
            "\n",
            "F1_score: 0.8031698686574388\n",
            "Tiempo de entrenamiento: 18.07s.\n",
            "==========Kernel poly==========\n",
            "Fitting 3 folds for each of 72 candidates, totalling 216 fits\n",
            "\n",
            "Los mejores parámetros son:\n",
            " {'svm__C': 100, 'svm__class_weight': None, 'svm__coef0': 0.0, 'svm__degree': 2, 'svm__gamma': 'scale'} \n",
            "\n",
            "F1_score: 0.8646910548389238\n",
            "Tiempo de entrenamiento: 9.33s.\n",
            "==========Kernel rbf==========\n",
            "Fitting 3 folds for each of 12 candidates, totalling 36 fits\n",
            "\n",
            "Los mejores parámetros son:\n",
            " {'svm__C': 1, 'svm__class_weight': None, 'svm__gamma': 'scale'} \n",
            "\n",
            "F1_score: 0.8576849811533821\n",
            "Tiempo de entrenamiento: 1.2s.\n"
          ]
        }
      ],
      "source": [
        "from sklearn.svm import SVC\n",
        "\n",
        "kernels = [\"linear\", \"poly\", \"rbf\"]\n",
        "\n",
        "# Hiperparámetros kernel lineal\n",
        "param_grid_linear = {\n",
        "              \"svm__C\": [1, 10, 100],\n",
        "              \"svm__class_weight\":[None, \"balanced\"]\n",
        "              }\n",
        "\n",
        "# Hiperparámetros kernel poly\n",
        "param_grid_poly = {\n",
        "              \"svm__C\": [1, 10, 100],\n",
        "              \"svm__degree\": list(range(1,4,1)),\n",
        "              \"svm__gamma\": [\"scale\", \"auto\"],\n",
        "              \"svm__coef0\": [0.0, 0.1],\n",
        "              \"svm__class_weight\":[None, \"balanced\"]\n",
        "              }\n",
        "\n",
        "# Hiperparámetros kernel rbf\n",
        "param_grid_rbf = {\n",
        "              \"svm__C\": [1, 10, 100],\n",
        "              \"svm__gamma\": [\"scale\", \"auto\"],\n",
        "              \"svm__class_weight\":[None, \"balanced\"]\n",
        "              }\n",
        "\n",
        "for k in kernels:\n",
        "  print(\"==========Kernel\", k + \"==========\")\n",
        "\n",
        "  # Se crea el regresor con kernel\n",
        "  svm = SVC(kernel=k)\n",
        "\n",
        "  # Se crea la pipeline\n",
        "  pipe = Pipeline([\n",
        "        ('scaler', StandardScaler()),\n",
        "        ('svm', svm)\n",
        "        ])\n",
        "\n",
        "  # Se realiza la HPO\n",
        "  match(k):\n",
        "    case \"linear\":\n",
        "      param_grid = param_grid_linear\n",
        "\n",
        "    case \"poly\":\n",
        "      param_grid = param_grid_poly\n",
        "\n",
        "    case \"rbf\":\n",
        "      param_grid = param_grid_rbf\n",
        "\n",
        "  grid = GridSearchCV(pipe,\n",
        "                      param_grid,\n",
        "                      cv=kfold,\n",
        "                      scoring=\"f1_weighted\",\n",
        "                      verbose=1,\n",
        "                      n_jobs=-1)\n",
        "\n",
        "  start = time()\n",
        "  grid.fit(X_train, Y_train.values.ravel())\n",
        "  end = time()\n",
        "\n",
        "  print(\"\\nLos mejores parámetros son:\\n\", grid.best_params_, \"\\n\")\n",
        "\n",
        "  # Se obtiene el f1 del mejor modelo\n",
        "  f1 = grid.best_score_\n",
        "\n",
        "  f1_score[\"svm_\"+k] = grid.best_score_\n",
        "  print(\"F1_score:\", str(f1))\n",
        "  print(\"Tiempo de entrenamiento:\", str(round(end-start,2)) + \"s.\")\n",
        "  train_time[\"svm_\"+k] = end - start"
      ]
    },
    {
      "cell_type": "markdown",
      "metadata": {
        "id": "qIw2rDKUbF9S"
      },
      "source": [
        "# Árbol de decisión "
      ]
    },
    {
      "cell_type": "code",
      "execution_count": 48,
      "metadata": {},
      "outputs": [
        {
          "name": "stdout",
          "output_type": "stream",
          "text": [
            "Fitting 3 folds for each of 6336 candidates, totalling 19008 fits\n"
          ]
        },
        {
          "name": "stdout",
          "output_type": "stream",
          "text": [
            "\n",
            "Los mejores parámetros son:\n",
            " {'class_weight': None, 'criterion': 'gini', 'max_depth': 4, 'min_samples_split': 75, 'splitter': 'best'} \n",
            "\n",
            "f1: 0.8656129127756959\n",
            "Tiempo de ejecución: 87.73s.\n"
          ]
        }
      ],
      "source": [
        "from sklearn.tree import DecisionTreeClassifier\n",
        "import numpy as np\n",
        "\n",
        "np.random.seed(100472092)\n",
        "# Espacio de búsqueda\n",
        "\n",
        "param_grid = {'max_depth': list(range(2, 24, 1)),\n",
        "              'min_samples_split':list(range(30, 101, 3)), \n",
        "              \"criterion\": [\"gini\", \"entropy\", \"log_loss\"],\n",
        "              \"splitter\": [\"best\", \"random\"], \n",
        "              \"class_weight\": [\"balanced\", None]}\n",
        "\n",
        "grid = GridSearchCV(DecisionTreeClassifier(),\n",
        "                         param_grid,\n",
        "                         scoring='f1_weighted',\n",
        "                         cv=kfold,\n",
        "                         n_jobs=-1,\n",
        "                         verbose=1)\n",
        "\n",
        "start = time()\n",
        "grid.fit(X=X_train, y=Y_train)\n",
        "end = time()\n",
        "\n",
        "print(\"\\nLos mejores parámetros son:\\n\", grid.best_params_, \"\\n\")\n",
        "\n",
        "f1_score[\"tree\"] = grid.best_score_\n",
        "\n",
        "print(\"f1:\", str(grid.best_score_))\n",
        "print(\"Tiempo de ejecución:\", str(round(end - start, 2)) + \"s.\")\n",
        "train_time[\"tree\"] = end - start "
      ]
    },
    {
      "cell_type": "code",
      "execution_count": 55,
      "metadata": {},
      "outputs": [
        {
          "data": {
            "image/png": "[encoded data removed]",
            "text/plain": [
              "<Figure size 640x480 with 1 Axes>"
            ]
          },
          "metadata": {},
          "output_type": "display_data"
        },
        {
          "data": {
            "image/png": "[encoded data removed]",
            "text/plain": [
              "<Figure size 640x480 with 1 Axes>"
            ]
          },
          "metadata": {},
          "output_type": "display_data"
        }
      ],
      "source": [
        "import matplotlib.pyplot as plt\n",
        "import seaborn as sns\n",
        "# Colores del diagrama\n",
        "colores = [\"blue\", \"red\", \"red\", \"red\", \"green\"]\n",
        "sns.set(font_scale=0.5)\n",
        "\n",
        "# Valores del mae\n",
        "titulos_mae = f1_score.keys()\n",
        "valores_mae = f1_score.values()\n",
        "titulos_time = train_time.keys()\n",
        "valores_time = train_time.values()\n",
        "\n",
        "# Plotear el mae\n",
        "sns.barplot(x=titulos_mae, y=valores_mae, width=0.6, palette=colores, hue=titulos_mae, legend=False)\n",
        "\n",
        "plt.xlabel(\"Modelos\")\n",
        "plt.ylabel(\"MAE\")\n",
        "plt.title(\"Modelos - MAE\")\n",
        "\n",
        "plt.show()\n",
        "\n",
        "sns.barplot(x=titulos_time, y=valores_time, width=0.6, palette=colores, hue=titulos_time, legend=False)\n",
        "plt.xlabel(\"Modelos\")\n",
        "plt.ylabel(\"Time\")\n",
        "plt.title(\"Modelos - time\")\n",
        "plt.show()"
      ]
    },
    {
      "cell_type": "code",
      "execution_count": 62,
      "metadata": {},
      "outputs": [
        {
          "name": "stdout",
          "output_type": "stream",
          "text": [
            "0.8422647992669933\n",
            "[[176 108]\n",
            " [ 60 755]]\n"
          ]
        },
        {
          "ename": "TypeError",
          "evalue": "unhashable type: 'numpy.ndarray'",
          "output_type": "error",
          "traceback": [
            "\u001b[0;31m---------------------------------------------------------------------------\u001b[0m",
            "\u001b[0;31mTypeError\u001b[0m                                 Traceback (most recent call last)",
            "Cell \u001b[0;32mIn[62], line 16\u001b[0m\n\u001b[1;32m     12\u001b[0m \u001b[38;5;66;03m# Suponiendo que tienes tus datos en los arrays Y_pred y Y_test\u001b[39;00m\n\u001b[1;32m     13\u001b[0m \n\u001b[1;32m     14\u001b[0m \u001b[38;5;66;03m# Crear el diagrama de dispersión\u001b[39;00m\n\u001b[1;32m     15\u001b[0m plt\u001b[38;5;241m.\u001b[39mfigure(figsize\u001b[38;5;241m=\u001b[39m(\u001b[38;5;241m8\u001b[39m, \u001b[38;5;241m6\u001b[39m))\n\u001b[0;32m---> 16\u001b[0m \u001b[43mplt\u001b[49m\u001b[38;5;241;43m.\u001b[39;49m\u001b[43mscatter\u001b[49m\u001b[43m(\u001b[49m\u001b[43mY_test\u001b[49m\u001b[43m,\u001b[49m\u001b[43m \u001b[49m\u001b[43my_pred\u001b[49m\u001b[43m,\u001b[49m\u001b[43m \u001b[49m\u001b[43mcolor\u001b[49m\u001b[38;5;241;43m=\u001b[39;49m\u001b[38;5;124;43m'\u001b[39;49m\u001b[38;5;124;43mblue\u001b[39;49m\u001b[38;5;124;43m'\u001b[39;49m\u001b[43m,\u001b[49m\u001b[43m \u001b[49m\u001b[43malpha\u001b[49m\u001b[38;5;241;43m=\u001b[39;49m\u001b[38;5;241;43m0.5\u001b[39;49m\u001b[43m)\u001b[49m  \u001b[38;5;66;03m# Diagrama de dispersión\u001b[39;00m\n\u001b[1;32m     17\u001b[0m plt\u001b[38;5;241m.\u001b[39mplot(Y_test, Y_test, color\u001b[38;5;241m=\u001b[39m\u001b[38;5;124m'\u001b[39m\u001b[38;5;124mred\u001b[39m\u001b[38;5;124m'\u001b[39m)  \u001b[38;5;66;03m# Línea de identidad\u001b[39;00m\n\u001b[1;32m     18\u001b[0m plt\u001b[38;5;241m.\u001b[39mtitle(\u001b[38;5;124m'\u001b[39m\u001b[38;5;124mDiagrama de dispersión de Y_test vs Y_pred\u001b[39m\u001b[38;5;124m'\u001b[39m)\n",
            "File \u001b[0;32m~/Documents/Universidad/Tercero/Aprendizaje automático/aprendizajeAutomatico-G03/.venv/lib64/python3.11/site-packages/matplotlib/pyplot.py:3699\u001b[0m, in \u001b[0;36mscatter\u001b[0;34m(x, y, s, c, marker, cmap, norm, vmin, vmax, alpha, linewidths, edgecolors, plotnonfinite, data, **kwargs)\u001b[0m\n\u001b[1;32m   3680\u001b[0m \u001b[38;5;129m@_copy_docstring_and_deprecators\u001b[39m(Axes\u001b[38;5;241m.\u001b[39mscatter)\n\u001b[1;32m   3681\u001b[0m \u001b[38;5;28;01mdef\u001b[39;00m \u001b[38;5;21mscatter\u001b[39m(\n\u001b[1;32m   3682\u001b[0m     x: \u001b[38;5;28mfloat\u001b[39m \u001b[38;5;241m|\u001b[39m ArrayLike,\n\u001b[0;32m   (...)\u001b[0m\n\u001b[1;32m   3697\u001b[0m     \u001b[38;5;241m*\u001b[39m\u001b[38;5;241m*\u001b[39mkwargs,\n\u001b[1;32m   3698\u001b[0m ) \u001b[38;5;241m-\u001b[39m\u001b[38;5;241m>\u001b[39m PathCollection:\n\u001b[0;32m-> 3699\u001b[0m     __ret \u001b[38;5;241m=\u001b[39m \u001b[43mgca\u001b[49m\u001b[43m(\u001b[49m\u001b[43m)\u001b[49m\u001b[38;5;241;43m.\u001b[39;49m\u001b[43mscatter\u001b[49m\u001b[43m(\u001b[49m\n\u001b[1;32m   3700\u001b[0m \u001b[43m        \u001b[49m\u001b[43mx\u001b[49m\u001b[43m,\u001b[49m\n\u001b[1;32m   3701\u001b[0m \u001b[43m        \u001b[49m\u001b[43my\u001b[49m\u001b[43m,\u001b[49m\n\u001b[1;32m   3702\u001b[0m \u001b[43m        \u001b[49m\u001b[43ms\u001b[49m\u001b[38;5;241;43m=\u001b[39;49m\u001b[43ms\u001b[49m\u001b[43m,\u001b[49m\n\u001b[1;32m   3703\u001b[0m \u001b[43m        \u001b[49m\u001b[43mc\u001b[49m\u001b[38;5;241;43m=\u001b[39;49m\u001b[43mc\u001b[49m\u001b[43m,\u001b[49m\n\u001b[1;32m   3704\u001b[0m \u001b[43m        \u001b[49m\u001b[43mmarker\u001b[49m\u001b[38;5;241;43m=\u001b[39;49m\u001b[43mmarker\u001b[49m\u001b[43m,\u001b[49m\n\u001b[1;32m   3705\u001b[0m \u001b[43m        \u001b[49m\u001b[43mcmap\u001b[49m\u001b[38;5;241;43m=\u001b[39;49m\u001b[43mcmap\u001b[49m\u001b[43m,\u001b[49m\n\u001b[1;32m   3706\u001b[0m \u001b[43m        \u001b[49m\u001b[43mnorm\u001b[49m\u001b[38;5;241;43m=\u001b[39;49m\u001b[43mnorm\u001b[49m\u001b[43m,\u001b[49m\n\u001b[1;32m   3707\u001b[0m \u001b[43m        \u001b[49m\u001b[43mvmin\u001b[49m\u001b[38;5;241;43m=\u001b[39;49m\u001b[43mvmin\u001b[49m\u001b[43m,\u001b[49m\n\u001b[1;32m   3708\u001b[0m \u001b[43m        \u001b[49m\u001b[43mvmax\u001b[49m\u001b[38;5;241;43m=\u001b[39;49m\u001b[43mvmax\u001b[49m\u001b[43m,\u001b[49m\n\u001b[1;32m   3709\u001b[0m \u001b[43m        \u001b[49m\u001b[43malpha\u001b[49m\u001b[38;5;241;43m=\u001b[39;49m\u001b[43malpha\u001b[49m\u001b[43m,\u001b[49m\n\u001b[1;32m   3710\u001b[0m \u001b[43m        \u001b[49m\u001b[43mlinewidths\u001b[49m\u001b[38;5;241;43m=\u001b[39;49m\u001b[43mlinewidths\u001b[49m\u001b[43m,\u001b[49m\n\u001b[1;32m   3711\u001b[0m \u001b[43m        \u001b[49m\u001b[43medgecolors\u001b[49m\u001b[38;5;241;43m=\u001b[39;49m\u001b[43medgecolors\u001b[49m\u001b[43m,\u001b[49m\n\u001b[1;32m   3712\u001b[0m \u001b[43m        \u001b[49m\u001b[43mplotnonfinite\u001b[49m\u001b[38;5;241;43m=\u001b[39;49m\u001b[43mplotnonfinite\u001b[49m\u001b[43m,\u001b[49m\n\u001b[1;32m   3713\u001b[0m \u001b[43m        \u001b[49m\u001b[38;5;241;43m*\u001b[39;49m\u001b[38;5;241;43m*\u001b[39;49m\u001b[43m(\u001b[49m\u001b[43m{\u001b[49m\u001b[38;5;124;43m\"\u001b[39;49m\u001b[38;5;124;43mdata\u001b[39;49m\u001b[38;5;124;43m\"\u001b[39;49m\u001b[43m:\u001b[49m\u001b[43m \u001b[49m\u001b[43mdata\u001b[49m\u001b[43m}\u001b[49m\u001b[43m \u001b[49m\u001b[38;5;28;43;01mif\u001b[39;49;00m\u001b[43m \u001b[49m\u001b[43mdata\u001b[49m\u001b[43m \u001b[49m\u001b[38;5;129;43;01mis\u001b[39;49;00m\u001b[43m \u001b[49m\u001b[38;5;129;43;01mnot\u001b[39;49;00m\u001b[43m \u001b[49m\u001b[38;5;28;43;01mNone\u001b[39;49;00m\u001b[43m \u001b[49m\u001b[38;5;28;43;01melse\u001b[39;49;00m\u001b[43m \u001b[49m\u001b[43m{\u001b[49m\u001b[43m}\u001b[49m\u001b[43m)\u001b[49m\u001b[43m,\u001b[49m\n\u001b[1;32m   3714\u001b[0m \u001b[43m        \u001b[49m\u001b[38;5;241;43m*\u001b[39;49m\u001b[38;5;241;43m*\u001b[39;49m\u001b[43mkwargs\u001b[49m\u001b[43m,\u001b[49m\n\u001b[1;32m   3715\u001b[0m \u001b[43m    \u001b[49m\u001b[43m)\u001b[49m\n\u001b[1;32m   3716\u001b[0m     sci(__ret)\n\u001b[1;32m   3717\u001b[0m     \u001b[38;5;28;01mreturn\u001b[39;00m __ret\n",
            "File \u001b[0;32m~/Documents/Universidad/Tercero/Aprendizaje automático/aprendizajeAutomatico-G03/.venv/lib64/python3.11/site-packages/matplotlib/__init__.py:1465\u001b[0m, in \u001b[0;36m_preprocess_data.<locals>.inner\u001b[0;34m(ax, data, *args, **kwargs)\u001b[0m\n\u001b[1;32m   1462\u001b[0m \u001b[38;5;129m@functools\u001b[39m\u001b[38;5;241m.\u001b[39mwraps(func)\n\u001b[1;32m   1463\u001b[0m \u001b[38;5;28;01mdef\u001b[39;00m \u001b[38;5;21minner\u001b[39m(ax, \u001b[38;5;241m*\u001b[39margs, data\u001b[38;5;241m=\u001b[39m\u001b[38;5;28;01mNone\u001b[39;00m, \u001b[38;5;241m*\u001b[39m\u001b[38;5;241m*\u001b[39mkwargs):\n\u001b[1;32m   1464\u001b[0m     \u001b[38;5;28;01mif\u001b[39;00m data \u001b[38;5;129;01mis\u001b[39;00m \u001b[38;5;28;01mNone\u001b[39;00m:\n\u001b[0;32m-> 1465\u001b[0m         \u001b[38;5;28;01mreturn\u001b[39;00m \u001b[43mfunc\u001b[49m\u001b[43m(\u001b[49m\u001b[43max\u001b[49m\u001b[43m,\u001b[49m\u001b[43m \u001b[49m\u001b[38;5;241;43m*\u001b[39;49m\u001b[38;5;28;43mmap\u001b[39;49m\u001b[43m(\u001b[49m\u001b[43msanitize_sequence\u001b[49m\u001b[43m,\u001b[49m\u001b[43m \u001b[49m\u001b[43margs\u001b[49m\u001b[43m)\u001b[49m\u001b[43m,\u001b[49m\u001b[43m \u001b[49m\u001b[38;5;241;43m*\u001b[39;49m\u001b[38;5;241;43m*\u001b[39;49m\u001b[43mkwargs\u001b[49m\u001b[43m)\u001b[49m\n\u001b[1;32m   1467\u001b[0m     bound \u001b[38;5;241m=\u001b[39m new_sig\u001b[38;5;241m.\u001b[39mbind(ax, \u001b[38;5;241m*\u001b[39margs, \u001b[38;5;241m*\u001b[39m\u001b[38;5;241m*\u001b[39mkwargs)\n\u001b[1;32m   1468\u001b[0m     auto_label \u001b[38;5;241m=\u001b[39m (bound\u001b[38;5;241m.\u001b[39marguments\u001b[38;5;241m.\u001b[39mget(label_namer)\n\u001b[1;32m   1469\u001b[0m                   \u001b[38;5;129;01mor\u001b[39;00m bound\u001b[38;5;241m.\u001b[39mkwargs\u001b[38;5;241m.\u001b[39mget(label_namer))\n",
            "File \u001b[0;32m~/Documents/Universidad/Tercero/Aprendizaje automático/aprendizajeAutomatico-G03/.venv/lib64/python3.11/site-packages/matplotlib/axes/_axes.py:4649\u001b[0m, in \u001b[0;36mAxes.scatter\u001b[0;34m(self, x, y, s, c, marker, cmap, norm, vmin, vmax, alpha, linewidths, edgecolors, plotnonfinite, **kwargs)\u001b[0m\n\u001b[1;32m   4647\u001b[0m edgecolors \u001b[38;5;241m=\u001b[39m kwargs\u001b[38;5;241m.\u001b[39mpop(\u001b[38;5;124m'\u001b[39m\u001b[38;5;124medgecolor\u001b[39m\u001b[38;5;124m'\u001b[39m, \u001b[38;5;28;01mNone\u001b[39;00m)\n\u001b[1;32m   4648\u001b[0m \u001b[38;5;66;03m# Process **kwargs to handle aliases, conflicts with explicit kwargs:\u001b[39;00m\n\u001b[0;32m-> 4649\u001b[0m x, y \u001b[38;5;241m=\u001b[39m \u001b[38;5;28;43mself\u001b[39;49m\u001b[38;5;241;43m.\u001b[39;49m\u001b[43m_process_unit_info\u001b[49m\u001b[43m(\u001b[49m\u001b[43m[\u001b[49m\u001b[43m(\u001b[49m\u001b[38;5;124;43m\"\u001b[39;49m\u001b[38;5;124;43mx\u001b[39;49m\u001b[38;5;124;43m\"\u001b[39;49m\u001b[43m,\u001b[49m\u001b[43m \u001b[49m\u001b[43mx\u001b[49m\u001b[43m)\u001b[49m\u001b[43m,\u001b[49m\u001b[43m \u001b[49m\u001b[43m(\u001b[49m\u001b[38;5;124;43m\"\u001b[39;49m\u001b[38;5;124;43my\u001b[39;49m\u001b[38;5;124;43m\"\u001b[39;49m\u001b[43m,\u001b[49m\u001b[43m \u001b[49m\u001b[43my\u001b[49m\u001b[43m)\u001b[49m\u001b[43m]\u001b[49m\u001b[43m,\u001b[49m\u001b[43m \u001b[49m\u001b[43mkwargs\u001b[49m\u001b[43m)\u001b[49m\n\u001b[1;32m   4650\u001b[0m \u001b[38;5;66;03m# np.ma.ravel yields an ndarray, not a masked array,\u001b[39;00m\n\u001b[1;32m   4651\u001b[0m \u001b[38;5;66;03m# unless its argument is a masked array.\u001b[39;00m\n\u001b[1;32m   4652\u001b[0m x \u001b[38;5;241m=\u001b[39m np\u001b[38;5;241m.\u001b[39mma\u001b[38;5;241m.\u001b[39mravel(x)\n",
            "File \u001b[0;32m~/Documents/Universidad/Tercero/Aprendizaje automático/aprendizajeAutomatico-G03/.venv/lib64/python3.11/site-packages/matplotlib/axes/_base.py:2555\u001b[0m, in \u001b[0;36m_AxesBase._process_unit_info\u001b[0;34m(self, datasets, kwargs, convert)\u001b[0m\n\u001b[1;32m   2553\u001b[0m     \u001b[38;5;66;03m# Update from data if axis is already set but no unit is set yet.\u001b[39;00m\n\u001b[1;32m   2554\u001b[0m     \u001b[38;5;28;01mif\u001b[39;00m axis \u001b[38;5;129;01mis\u001b[39;00m \u001b[38;5;129;01mnot\u001b[39;00m \u001b[38;5;28;01mNone\u001b[39;00m \u001b[38;5;129;01mand\u001b[39;00m data \u001b[38;5;129;01mis\u001b[39;00m \u001b[38;5;129;01mnot\u001b[39;00m \u001b[38;5;28;01mNone\u001b[39;00m \u001b[38;5;129;01mand\u001b[39;00m \u001b[38;5;129;01mnot\u001b[39;00m axis\u001b[38;5;241m.\u001b[39mhave_units():\n\u001b[0;32m-> 2555\u001b[0m         \u001b[43maxis\u001b[49m\u001b[38;5;241;43m.\u001b[39;49m\u001b[43mupdate_units\u001b[49m\u001b[43m(\u001b[49m\u001b[43mdata\u001b[49m\u001b[43m)\u001b[49m\n\u001b[1;32m   2556\u001b[0m \u001b[38;5;28;01mfor\u001b[39;00m axis_name, axis \u001b[38;5;129;01min\u001b[39;00m axis_map\u001b[38;5;241m.\u001b[39mitems():\n\u001b[1;32m   2557\u001b[0m     \u001b[38;5;66;03m# Return if no axis is set.\u001b[39;00m\n\u001b[1;32m   2558\u001b[0m     \u001b[38;5;28;01mif\u001b[39;00m axis \u001b[38;5;129;01mis\u001b[39;00m \u001b[38;5;28;01mNone\u001b[39;00m:\n",
            "File \u001b[0;32m~/Documents/Universidad/Tercero/Aprendizaje automático/aprendizajeAutomatico-G03/.venv/lib64/python3.11/site-packages/matplotlib/axis.py:1712\u001b[0m, in \u001b[0;36mAxis.update_units\u001b[0;34m(self, data)\u001b[0m\n\u001b[1;32m   1710\u001b[0m neednew \u001b[38;5;241m=\u001b[39m \u001b[38;5;28mself\u001b[39m\u001b[38;5;241m.\u001b[39mconverter \u001b[38;5;241m!=\u001b[39m converter\n\u001b[1;32m   1711\u001b[0m \u001b[38;5;28mself\u001b[39m\u001b[38;5;241m.\u001b[39mconverter \u001b[38;5;241m=\u001b[39m converter\n\u001b[0;32m-> 1712\u001b[0m default \u001b[38;5;241m=\u001b[39m \u001b[38;5;28;43mself\u001b[39;49m\u001b[38;5;241;43m.\u001b[39;49m\u001b[43mconverter\u001b[49m\u001b[38;5;241;43m.\u001b[39;49m\u001b[43mdefault_units\u001b[49m\u001b[43m(\u001b[49m\u001b[43mdata\u001b[49m\u001b[43m,\u001b[49m\u001b[43m \u001b[49m\u001b[38;5;28;43mself\u001b[39;49m\u001b[43m)\u001b[49m\n\u001b[1;32m   1713\u001b[0m \u001b[38;5;28;01mif\u001b[39;00m default \u001b[38;5;129;01mis\u001b[39;00m \u001b[38;5;129;01mnot\u001b[39;00m \u001b[38;5;28;01mNone\u001b[39;00m \u001b[38;5;129;01mand\u001b[39;00m \u001b[38;5;28mself\u001b[39m\u001b[38;5;241m.\u001b[39munits \u001b[38;5;129;01mis\u001b[39;00m \u001b[38;5;28;01mNone\u001b[39;00m:\n\u001b[1;32m   1714\u001b[0m     \u001b[38;5;28mself\u001b[39m\u001b[38;5;241m.\u001b[39mset_units(default)\n",
            "File \u001b[0;32m~/Documents/Universidad/Tercero/Aprendizaje automático/aprendizajeAutomatico-G03/.venv/lib64/python3.11/site-packages/matplotlib/category.py:105\u001b[0m, in \u001b[0;36mStrCategoryConverter.default_units\u001b[0;34m(data, axis)\u001b[0m\n\u001b[1;32m    103\u001b[0m \u001b[38;5;66;03m# the conversion call stack is default_units -> axis_info -> convert\u001b[39;00m\n\u001b[1;32m    104\u001b[0m \u001b[38;5;28;01mif\u001b[39;00m axis\u001b[38;5;241m.\u001b[39munits \u001b[38;5;129;01mis\u001b[39;00m \u001b[38;5;28;01mNone\u001b[39;00m:\n\u001b[0;32m--> 105\u001b[0m     axis\u001b[38;5;241m.\u001b[39mset_units(\u001b[43mUnitData\u001b[49m\u001b[43m(\u001b[49m\u001b[43mdata\u001b[49m\u001b[43m)\u001b[49m)\n\u001b[1;32m    106\u001b[0m \u001b[38;5;28;01melse\u001b[39;00m:\n\u001b[1;32m    107\u001b[0m     axis\u001b[38;5;241m.\u001b[39munits\u001b[38;5;241m.\u001b[39mupdate(data)\n",
            "File \u001b[0;32m~/Documents/Universidad/Tercero/Aprendizaje automático/aprendizajeAutomatico-G03/.venv/lib64/python3.11/site-packages/matplotlib/category.py:181\u001b[0m, in \u001b[0;36mUnitData.__init__\u001b[0;34m(self, data)\u001b[0m\n\u001b[1;32m    179\u001b[0m \u001b[38;5;28mself\u001b[39m\u001b[38;5;241m.\u001b[39m_counter \u001b[38;5;241m=\u001b[39m itertools\u001b[38;5;241m.\u001b[39mcount()\n\u001b[1;32m    180\u001b[0m \u001b[38;5;28;01mif\u001b[39;00m data \u001b[38;5;129;01mis\u001b[39;00m \u001b[38;5;129;01mnot\u001b[39;00m \u001b[38;5;28;01mNone\u001b[39;00m:\n\u001b[0;32m--> 181\u001b[0m     \u001b[38;5;28;43mself\u001b[39;49m\u001b[38;5;241;43m.\u001b[39;49m\u001b[43mupdate\u001b[49m\u001b[43m(\u001b[49m\u001b[43mdata\u001b[49m\u001b[43m)\u001b[49m\n",
            "File \u001b[0;32m~/Documents/Universidad/Tercero/Aprendizaje automático/aprendizajeAutomatico-G03/.venv/lib64/python3.11/site-packages/matplotlib/category.py:214\u001b[0m, in \u001b[0;36mUnitData.update\u001b[0;34m(self, data)\u001b[0m\n\u001b[1;32m    212\u001b[0m \u001b[38;5;66;03m# check if convertible to number:\u001b[39;00m\n\u001b[1;32m    213\u001b[0m convertible \u001b[38;5;241m=\u001b[39m \u001b[38;5;28;01mTrue\u001b[39;00m\n\u001b[0;32m--> 214\u001b[0m \u001b[38;5;28;01mfor\u001b[39;00m val \u001b[38;5;129;01min\u001b[39;00m \u001b[43mOrderedDict\u001b[49m\u001b[38;5;241;43m.\u001b[39;49m\u001b[43mfromkeys\u001b[49m\u001b[43m(\u001b[49m\u001b[43mdata\u001b[49m\u001b[43m)\u001b[49m:\n\u001b[1;32m    215\u001b[0m     \u001b[38;5;66;03m# OrderedDict just iterates over unique values in data.\u001b[39;00m\n\u001b[1;32m    216\u001b[0m     _api\u001b[38;5;241m.\u001b[39mcheck_isinstance((\u001b[38;5;28mstr\u001b[39m, \u001b[38;5;28mbytes\u001b[39m), value\u001b[38;5;241m=\u001b[39mval)\n\u001b[1;32m    217\u001b[0m     \u001b[38;5;28;01mif\u001b[39;00m convertible:\n\u001b[1;32m    218\u001b[0m         \u001b[38;5;66;03m# this will only be called so long as convertible is True.\u001b[39;00m\n",
            "\u001b[0;31mTypeError\u001b[0m: unhashable type: 'numpy.ndarray'"
          ]
        },
        {
          "data": {
            "image/png": "[encoded data removed]",
            "text/plain": [
              "<Figure size 800x600 with 1 Axes>"
            ]
          },
          "metadata": {},
          "output_type": "display_data"
        }
      ],
      "source": [
        "from sklearn.metrics import f1_score\n",
        "from sklearn.metrics import confusion_matrix\n",
        "best = DecisionTreeClassifier(class_weight=None, criterion='gini', max_depth=4, min_samples_split=75, splitter='best')\n",
        "\n",
        "best.fit(X_train, Y_train)\n",
        "y_pred = best.predict(X_test)\n",
        "score = f1_score(Y_test, y_pred, average=\"weighted\")\n",
        "matrix = confusion_matrix(Y_test, y_pred, labels=[\"high\", \"low\"])\n",
        "\n",
        "print(score)\n",
        "print(matrix)"
      ]
    }
  ],
  "metadata": {
    "colab": {
      "provenance": []
    },
    "kernelspec": {
      "display_name": ".venv",
      "language": "python",
      "name": "python3"
    },
    "language_info": {
      "codemirror_mode": {
        "name": "ipython",
        "version": 3
      },
      "file_extension": ".py",
      "mimetype": "text/x-python",
      "name": "python",
      "nbconvert_exporter": "python",
      "pygments_lexer": "ipython3",
      "version": "3.11.8"
    }
  },
  "nbformat": 4,
  "nbformat_minor": 0
}
