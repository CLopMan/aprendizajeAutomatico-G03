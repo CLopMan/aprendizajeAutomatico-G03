{
  "cells": [
    {
      "cell_type": "markdown",
      "metadata": {
        "id": "GAmL3Bb2Fvi0"
      },
      "source": [
        "# **Modelos de clasificación - Grupo03**"
      ]
    },
    {
      "cell_type": "markdown",
      "metadata": {
        "id": "YK4sxHUBFvcY"
      },
      "source": [
        "## **Authors**\n",
        "\n",
        "- César López Mantecón - 100472092\n",
        "- Manuel Gómez-Plana Rodríguez - 100472310\n",
        "\n"
      ]
    },
    {
      "cell_type": "markdown",
      "metadata": {
        "id": "EW5DK7qyFvRJ"
      },
      "source": [
        "## **Repositorio**\n",
        "\n",
        "Esta práctica se ha llevado a cabo en este [repositorio de github](https://github.com/CLopMan/aprendizajeAutomatico-G03)\n",
        "\n",
        "## **Introducción**\n",
        "\n",
        "En este cuaderno se resolverá un problema similar. Las instancias de energía se han clasificado en \"low\" o \"high\" según si su valor es inferior o superior al valor del tercer cuartil. En este cuaderno trataremos de entrenar un modelo capaz de clasificar nuevas instancias en estas clases.\n",
        "\n",
        "# **1. Transformación de datos**\n",
        "\n",
        "El primer paso para el problema de clasificación es aplicar una transformación a la variable de salida. Es por ello que calculamos el tercer cuantil y transformamos la variable de salida respecto a este, asignandno el valor 0 para valores altos y 1 para valores bajos.\n",
        "\n",
        "Esta asignación se debe a que el cálculo de la f1-score sólo es capaz de operar con clases numéricas, por lo que se decide hacer una representación numérica."
      ]
    },
    {
      "cell_type": "code",
      "execution_count": 2,
      "metadata": {
        "colab": {
          "base_uri": "https://localhost:8080/"
        },
        "id": "jt1inLnmd3ic",
        "outputId": "a5e518fc-ca6a-4d52-c4c6-35028af67a48"
      },
      "outputs": [],
      "source": [
        "# Para ejecutar el cuaderno en drive\n",
        "#from google.colab import drive\n",
        "#import pandas as pd\n",
        "#\n",
        "#drive.mount('/content/drive')\n",
        "#sotavento = pd.read_csv(\"/content/drive/MyDrive/wind_ava.csv\") # acceder al csv en drive"
      ]
    },
    {
      "cell_type": "code",
      "execution_count": 3,
      "metadata": {
        "id": "-K8Crt_AFmtB"
      },
      "outputs": [],
      "source": [
        "import pandas as pd\n",
        "\n",
        "sotavento = pd.read_csv(\"wind_ava.csv.gz\", compression='gzip') # acceder al gz en local\n",
        "#sotavento = raw_data.filter(regex='13$|energy|datetime') # eliminacion de instancias no referentes a Sotavento\n",
        "\n",
        "Q3 = sotavento[\"energy\"].quantile(0.75)\n",
        "sotavento.insert(1, \"energyTag\", [0 for i in range(len(sotavento))])\n",
        "\n",
        "cont = 0\n",
        "for i, v in enumerate(sotavento[\"energy\"]):\n",
        "    if v < Q3:\n",
        "        sotavento.loc[i, \"energyTag\"] = 1\n",
        "        cont += 1\n",
        "\n",
        "sotavento = sotavento.drop(\"energy\", axis=1)"
      ]
    },
    {
      "cell_type": "markdown",
      "metadata": {
        "id": "Nu0w61LBZkxe"
      },
      "source": [
        "# **2. Clases desbalanceadas**\n",
        "\n",
        "Si observamos los valores de energyTag, la nueva columna del dataframe que indica la clase de cada instancia, podemos ver que las clases están desbalanceadas.\n"
      ]
    },
    {
      "cell_type": "code",
      "execution_count": 4,
      "metadata": {
        "colab": {
          "base_uri": "https://localhost:8080/",
          "height": 458
        },
        "id": "Rfw7t4qZZknX",
        "outputId": "603d3ac5-047f-4814-afc5-d5871f73aa56"
      },
      "outputs": [
        {
          "name": "stdout",
          "output_type": "stream",
          "text": [
            "Número de instancias 'low': 3561\n",
            "Número de instancias 'high':1187\n"
          ]
        },
        {
          "data": {
            "text/plain": [
              "<Axes: ylabel='count'>"
            ]
          },
          "execution_count": 4,
          "metadata": {},
          "output_type": "execute_result"
        },
        {
          "data": {
            "image/png": "[encoded data removed]",
            "text/plain": [
              "<Figure size 640x480 with 1 Axes>"
            ]
          },
          "metadata": {},
          "output_type": "display_data"
        }
      ],
      "source": [
        "print(f\"Número de instancias \\'low\\': {cont}\\nNúmero de instancias \\'high\\':{len(sotavento) - cont}\")\n",
        "\n",
        "sotavento[\"energyTag\"].value_counts().plot(kind=\"pie\")"
      ]
    },
    {
      "cell_type": "markdown",
      "metadata": {
        "id": "yDeoN09VZkd4"
      },
      "source": [
        "Es por ello que tenemos que tener en cuenta este desbalance. Posteriormente hablaremos sus efectos.\n",
        "\n",
        "## **2.1. División entre train y test**\n",
        "Para poder hacer los modelos de clasificación, primero, necesitaremos dividir el dataset entre las particiones de train y test.\n"
      ]
    },
    {
      "cell_type": "code",
      "execution_count": 5,
      "metadata": {
        "colab": {
          "base_uri": "https://localhost:8080/"
        },
        "id": "Sr7bST3IaD4G",
        "outputId": "32a21954-9eea-4c06-fed3-f9ce6067c611"
      },
      "outputs": [
        {
          "name": "stdout",
          "output_type": "stream",
          "text": [
            "Hay 1099 instancias de 2008 y 2009\n"
          ]
        }
      ],
      "source": [
        "from sklearn.model_selection import train_test_split\n",
        "\n",
        "size = 0\n",
        "\n",
        "res = pd.to_datetime(sotavento[\"datetime\"], unit='ns').astype(str)\n",
        "\n",
        "for ind, data in res.items():\n",
        "  if data.startswith(\"2008\") or data.startswith(\"2009\"):\n",
        "    size += 1\n",
        "\n",
        "print(\"Hay\", str(size), \"instancias de 2008 y 2009\")\n",
        "\n",
        "# Se obtienen los datos\n",
        "X = sotavento.drop([\"energyTag\", \"datetime\"], axis=\"columns\")\n",
        "Y = sotavento[[\"energyTag\"]]\n",
        "\n",
        "train, test = train_test_split(sotavento, test_size=size, shuffle=False)\n",
        "\n",
        "X_train = train.drop([\"energyTag\", \"datetime\"], axis=\"columns\")\n",
        "Y_train = train[[\"energyTag\"]]\n",
        "X_test = test.drop([\"energyTag\", \"datetime\"], axis=\"columns\")\n",
        "Y_test = test[[\"energyTag\"]]"
      ]
    },
    {
      "cell_type": "markdown",
      "metadata": {
        "id": "aBHyNBhxOFxm"
      },
      "source": [
        "## **2.2 Dummy**\n",
        "Tras las particiones, crearemos un clasificacidor dummy, con el cual compararemos los resultados de nuestros modelos. De esta manera, podremos observar si hay alguna mejora con respecto a este."
      ]
    },
    {
      "cell_type": "code",
      "execution_count": 6,
      "metadata": {
        "colab": {
          "base_uri": "https://localhost:8080/"
        },
        "id": "hxv-6jgbOJOm",
        "outputId": "2a99b902-085c-4eda-db88-cbb630a8996a"
      },
      "outputs": [
        {
          "name": "stdout",
          "output_type": "stream",
          "text": [
            "Precisión del clasificador dummy: 0.851619644723093\n"
          ]
        }
      ],
      "source": [
        "from sklearn.dummy import DummyClassifier\n",
        "from sklearn.metrics import f1_score\n",
        "\n",
        "# Generar datos de ejemplo\n",
        "dummy_classifier = DummyClassifier(strategy=\"most_frequent\")\n",
        "dummy_classifier.fit(X_train, Y_train)\n",
        "\n",
        "\n",
        "# Predecir con el conjunto de prueba\n",
        "dummy_pred = dummy_classifier.predict(X_test)\n",
        "\n",
        "# Calcular la precisión\n",
        "f1 = f1_score(Y_test, dummy_pred)\n",
        "print(\"Precisión del clasificador dummy:\", f1)"
      ]
    },
    {
      "cell_type": "markdown",
      "metadata": {
        "id": "PH5HEXL0aS1P"
      },
      "source": [
        "# **3. Evaluación del modelo**\n",
        "Para poder realizar modelos de clasificación, es necesario clarificar las métricas que usaremos, además de cómo realizaremos la evaluación inner y la evaluación outer.\n",
        "\n",
        "## **3.1 Evaluación Inner**\n",
        "\n",
        "Utilizaremos validación cruzada con k = 3 para la evaluación inner. Descartamos usar time series split debido a la nueva naturaleza del problema, es decir, una serie estática donde el tiempo no influye en los resultados.\n",
        "\n",
        "## **3.2 Evaluación Outer**\n",
        "Para la evaluación outer, hemos hecho un split dejando 2008 y 2009 para evaluar y el resto de años para entrenar. Esto se ve reflejado en el apartado 2.1.\n",
        "\n",
        "## **3.3 Métricas de evaluación**\n",
        "\n",
        "Para evaluar el modelo, emplearemos la métrica de *f1-score* debido a que se trata de un problema con clases desbalanceadas. Esta métrica no es sensible al desequilibrio de clases, ya que usa una media armónica. Es por esto y por la naturaleza de nuestro dataset, que usaremos esta métrica.\n",
        "\n"
      ]
    },
    {
      "cell_type": "markdown",
      "metadata": {
        "id": "VubhVijKbHn1"
      },
      "source": [
        "# **4. Modelos de clasificación**\n",
        "En este apartado, aparecen los modelos de clasificación, con los que hemos hecho HPO para determinar los mejores hiperparámetros. Los modelos usados son los mismos que hemos usado en el apartado anterior, excepto la regresión.\n",
        "\n",
        "Por útlimo, compararemos los modelos para determinar cuál de todos es el mejor.\n",
        "\n",
        "## **4.1. K-folds**\n",
        "Lo primero que deberemos hacer crear el objeto de K-folds, el cual usaremos en la evaluación inner de cada uno de los modelos. Debido a la amplia cantidad de datos con los que disponemos, creemos que realizar tres particiones es adecuado."
      ]
    },
    {
      "cell_type": "code",
      "execution_count": 7,
      "metadata": {
        "id": "vtQ0nYYXcIpV"
      },
      "outputs": [],
      "source": [
        "from sklearn.model_selection import KFold\n",
        "\n",
        "kfold = KFold(3)\n",
        "\n",
        "# Diccionarios donde guardaremos los datos para gráficos\n",
        "f1_score = {}\n",
        "train_time = {}"
      ]
    },
    {
      "cell_type": "markdown",
      "metadata": {
        "id": "uW1HB4DFTUww"
      },
      "source": [
        "## **4.2. KNN**\n",
        "\n",
        "El primer modelo a evaluar es el KNN, el cuál creemos que dará un buen rendimiento debido al algoritmo que usa. Este modelo tomará los n vecinos más cercanos para determinar la variable de salida."
      ]
    },
    {
      "cell_type": "code",
      "execution_count": 8,
      "metadata": {
        "colab": {
          "base_uri": "https://localhost:8080/"
        },
        "id": "uAFelejlTAnV",
        "outputId": "ee993019-0e38-4a84-9bd9-edc5c3fa871b"
      },
      "outputs": [
        {
          "name": "stdout",
          "output_type": "stream",
          "text": [
            "Fitting 3 folds for each of 360 candidates, totalling 1080 fits\n"
          ]
        },
        {
          "ename": "KeyboardInterrupt",
          "evalue": "",
          "output_type": "error",
          "traceback": [
            "\u001b[0;31m---------------------------------------------------------------------------\u001b[0m",
            "\u001b[0;31mKeyboardInterrupt\u001b[0m                         Traceback (most recent call last)",
            "Cell \u001b[0;32mIn[8], line 29\u001b[0m\n\u001b[1;32m     22\u001b[0m grid \u001b[38;5;241m=\u001b[39m GridSearchCV(pipe,\n\u001b[1;32m     23\u001b[0m                     param_grid,\n\u001b[1;32m     24\u001b[0m                     cv\u001b[38;5;241m=\u001b[39m\u001b[38;5;241m3\u001b[39m,\n\u001b[1;32m     25\u001b[0m                     scoring\u001b[38;5;241m=\u001b[39m\u001b[38;5;124m\"\u001b[39m\u001b[38;5;124mf1\u001b[39m\u001b[38;5;124m\"\u001b[39m,\n\u001b[1;32m     26\u001b[0m                     verbose\u001b[38;5;241m=\u001b[39m\u001b[38;5;241m1\u001b[39m,\n\u001b[1;32m     27\u001b[0m                     n_jobs\u001b[38;5;241m=\u001b[39m\u001b[38;5;241m-\u001b[39m\u001b[38;5;241m1\u001b[39m)\n\u001b[1;32m     28\u001b[0m start \u001b[38;5;241m=\u001b[39m time()\n\u001b[0;32m---> 29\u001b[0m \u001b[43mgrid\u001b[49m\u001b[38;5;241;43m.\u001b[39;49m\u001b[43mfit\u001b[49m\u001b[43m(\u001b[49m\u001b[43mX_train\u001b[49m\u001b[43m,\u001b[49m\u001b[43m \u001b[49m\u001b[43mY_train\u001b[49m\u001b[38;5;241;43m.\u001b[39;49m\u001b[43mvalues\u001b[49m\u001b[38;5;241;43m.\u001b[39;49m\u001b[43mravel\u001b[49m\u001b[43m(\u001b[49m\u001b[43m)\u001b[49m\u001b[43m)\u001b[49m\n\u001b[1;32m     30\u001b[0m end \u001b[38;5;241m=\u001b[39m time()\n\u001b[1;32m     32\u001b[0m \u001b[38;5;28mprint\u001b[39m(\u001b[38;5;124m\"\u001b[39m\u001b[38;5;130;01m\\n\u001b[39;00m\u001b[38;5;124mLos mejores parámetros son:\u001b[39m\u001b[38;5;130;01m\\n\u001b[39;00m\u001b[38;5;124m\"\u001b[39m, grid\u001b[38;5;241m.\u001b[39mbest_params_, \u001b[38;5;124m\"\u001b[39m\u001b[38;5;130;01m\\n\u001b[39;00m\u001b[38;5;124m\"\u001b[39m)\n",
            "File \u001b[0;32m~/Documents/Universidad/Tercero/Aprendizaje automático/aprendizajeAutomatico-G03/.venv/lib64/python3.11/site-packages/sklearn/base.py:1474\u001b[0m, in \u001b[0;36m_fit_context.<locals>.decorator.<locals>.wrapper\u001b[0;34m(estimator, *args, **kwargs)\u001b[0m\n\u001b[1;32m   1467\u001b[0m     estimator\u001b[38;5;241m.\u001b[39m_validate_params()\n\u001b[1;32m   1469\u001b[0m \u001b[38;5;28;01mwith\u001b[39;00m config_context(\n\u001b[1;32m   1470\u001b[0m     skip_parameter_validation\u001b[38;5;241m=\u001b[39m(\n\u001b[1;32m   1471\u001b[0m         prefer_skip_nested_validation \u001b[38;5;129;01mor\u001b[39;00m global_skip_validation\n\u001b[1;32m   1472\u001b[0m     )\n\u001b[1;32m   1473\u001b[0m ):\n\u001b[0;32m-> 1474\u001b[0m     \u001b[38;5;28;01mreturn\u001b[39;00m \u001b[43mfit_method\u001b[49m\u001b[43m(\u001b[49m\u001b[43mestimator\u001b[49m\u001b[43m,\u001b[49m\u001b[43m \u001b[49m\u001b[38;5;241;43m*\u001b[39;49m\u001b[43margs\u001b[49m\u001b[43m,\u001b[49m\u001b[43m \u001b[49m\u001b[38;5;241;43m*\u001b[39;49m\u001b[38;5;241;43m*\u001b[39;49m\u001b[43mkwargs\u001b[49m\u001b[43m)\u001b[49m\n",
            "File \u001b[0;32m~/Documents/Universidad/Tercero/Aprendizaje automático/aprendizajeAutomatico-G03/.venv/lib64/python3.11/site-packages/sklearn/model_selection/_search.py:970\u001b[0m, in \u001b[0;36mBaseSearchCV.fit\u001b[0;34m(self, X, y, **params)\u001b[0m\n\u001b[1;32m    964\u001b[0m     results \u001b[38;5;241m=\u001b[39m \u001b[38;5;28mself\u001b[39m\u001b[38;5;241m.\u001b[39m_format_results(\n\u001b[1;32m    965\u001b[0m         all_candidate_params, n_splits, all_out, all_more_results\n\u001b[1;32m    966\u001b[0m     )\n\u001b[1;32m    968\u001b[0m     \u001b[38;5;28;01mreturn\u001b[39;00m results\n\u001b[0;32m--> 970\u001b[0m \u001b[38;5;28;43mself\u001b[39;49m\u001b[38;5;241;43m.\u001b[39;49m\u001b[43m_run_search\u001b[49m\u001b[43m(\u001b[49m\u001b[43mevaluate_candidates\u001b[49m\u001b[43m)\u001b[49m\n\u001b[1;32m    972\u001b[0m \u001b[38;5;66;03m# multimetric is determined here because in the case of a callable\u001b[39;00m\n\u001b[1;32m    973\u001b[0m \u001b[38;5;66;03m# self.scoring the return type is only known after calling\u001b[39;00m\n\u001b[1;32m    974\u001b[0m first_test_score \u001b[38;5;241m=\u001b[39m all_out[\u001b[38;5;241m0\u001b[39m][\u001b[38;5;124m\"\u001b[39m\u001b[38;5;124mtest_scores\u001b[39m\u001b[38;5;124m\"\u001b[39m]\n",
            "File \u001b[0;32m~/Documents/Universidad/Tercero/Aprendizaje automático/aprendizajeAutomatico-G03/.venv/lib64/python3.11/site-packages/sklearn/model_selection/_search.py:1527\u001b[0m, in \u001b[0;36mGridSearchCV._run_search\u001b[0;34m(self, evaluate_candidates)\u001b[0m\n\u001b[1;32m   1525\u001b[0m \u001b[38;5;28;01mdef\u001b[39;00m \u001b[38;5;21m_run_search\u001b[39m(\u001b[38;5;28mself\u001b[39m, evaluate_candidates):\n\u001b[1;32m   1526\u001b[0m \u001b[38;5;250m    \u001b[39m\u001b[38;5;124;03m\"\"\"Search all candidates in param_grid\"\"\"\u001b[39;00m\n\u001b[0;32m-> 1527\u001b[0m     \u001b[43mevaluate_candidates\u001b[49m\u001b[43m(\u001b[49m\u001b[43mParameterGrid\u001b[49m\u001b[43m(\u001b[49m\u001b[38;5;28;43mself\u001b[39;49m\u001b[38;5;241;43m.\u001b[39;49m\u001b[43mparam_grid\u001b[49m\u001b[43m)\u001b[49m\u001b[43m)\u001b[49m\n",
            "File \u001b[0;32m~/Documents/Universidad/Tercero/Aprendizaje automático/aprendizajeAutomatico-G03/.venv/lib64/python3.11/site-packages/sklearn/model_selection/_search.py:916\u001b[0m, in \u001b[0;36mBaseSearchCV.fit.<locals>.evaluate_candidates\u001b[0;34m(candidate_params, cv, more_results)\u001b[0m\n\u001b[1;32m    908\u001b[0m \u001b[38;5;28;01mif\u001b[39;00m \u001b[38;5;28mself\u001b[39m\u001b[38;5;241m.\u001b[39mverbose \u001b[38;5;241m>\u001b[39m \u001b[38;5;241m0\u001b[39m:\n\u001b[1;32m    909\u001b[0m     \u001b[38;5;28mprint\u001b[39m(\n\u001b[1;32m    910\u001b[0m         \u001b[38;5;124m\"\u001b[39m\u001b[38;5;124mFitting \u001b[39m\u001b[38;5;132;01m{0}\u001b[39;00m\u001b[38;5;124m folds for each of \u001b[39m\u001b[38;5;132;01m{1}\u001b[39;00m\u001b[38;5;124m candidates,\u001b[39m\u001b[38;5;124m\"\u001b[39m\n\u001b[1;32m    911\u001b[0m         \u001b[38;5;124m\"\u001b[39m\u001b[38;5;124m totalling \u001b[39m\u001b[38;5;132;01m{2}\u001b[39;00m\u001b[38;5;124m fits\u001b[39m\u001b[38;5;124m\"\u001b[39m\u001b[38;5;241m.\u001b[39mformat(\n\u001b[1;32m    912\u001b[0m             n_splits, n_candidates, n_candidates \u001b[38;5;241m*\u001b[39m n_splits\n\u001b[1;32m    913\u001b[0m         )\n\u001b[1;32m    914\u001b[0m     )\n\u001b[0;32m--> 916\u001b[0m out \u001b[38;5;241m=\u001b[39m \u001b[43mparallel\u001b[49m\u001b[43m(\u001b[49m\n\u001b[1;32m    917\u001b[0m \u001b[43m    \u001b[49m\u001b[43mdelayed\u001b[49m\u001b[43m(\u001b[49m\u001b[43m_fit_and_score\u001b[49m\u001b[43m)\u001b[49m\u001b[43m(\u001b[49m\n\u001b[1;32m    918\u001b[0m \u001b[43m        \u001b[49m\u001b[43mclone\u001b[49m\u001b[43m(\u001b[49m\u001b[43mbase_estimator\u001b[49m\u001b[43m)\u001b[49m\u001b[43m,\u001b[49m\n\u001b[1;32m    919\u001b[0m \u001b[43m        \u001b[49m\u001b[43mX\u001b[49m\u001b[43m,\u001b[49m\n\u001b[1;32m    920\u001b[0m \u001b[43m        \u001b[49m\u001b[43my\u001b[49m\u001b[43m,\u001b[49m\n\u001b[1;32m    921\u001b[0m \u001b[43m        \u001b[49m\u001b[43mtrain\u001b[49m\u001b[38;5;241;43m=\u001b[39;49m\u001b[43mtrain\u001b[49m\u001b[43m,\u001b[49m\n\u001b[1;32m    922\u001b[0m \u001b[43m        \u001b[49m\u001b[43mtest\u001b[49m\u001b[38;5;241;43m=\u001b[39;49m\u001b[43mtest\u001b[49m\u001b[43m,\u001b[49m\n\u001b[1;32m    923\u001b[0m \u001b[43m        \u001b[49m\u001b[43mparameters\u001b[49m\u001b[38;5;241;43m=\u001b[39;49m\u001b[43mparameters\u001b[49m\u001b[43m,\u001b[49m\n\u001b[1;32m    924\u001b[0m \u001b[43m        \u001b[49m\u001b[43msplit_progress\u001b[49m\u001b[38;5;241;43m=\u001b[39;49m\u001b[43m(\u001b[49m\u001b[43msplit_idx\u001b[49m\u001b[43m,\u001b[49m\u001b[43m \u001b[49m\u001b[43mn_splits\u001b[49m\u001b[43m)\u001b[49m\u001b[43m,\u001b[49m\n\u001b[1;32m    925\u001b[0m \u001b[43m        \u001b[49m\u001b[43mcandidate_progress\u001b[49m\u001b[38;5;241;43m=\u001b[39;49m\u001b[43m(\u001b[49m\u001b[43mcand_idx\u001b[49m\u001b[43m,\u001b[49m\u001b[43m \u001b[49m\u001b[43mn_candidates\u001b[49m\u001b[43m)\u001b[49m\u001b[43m,\u001b[49m\n\u001b[1;32m    926\u001b[0m \u001b[43m        \u001b[49m\u001b[38;5;241;43m*\u001b[39;49m\u001b[38;5;241;43m*\u001b[39;49m\u001b[43mfit_and_score_kwargs\u001b[49m\u001b[43m,\u001b[49m\n\u001b[1;32m    927\u001b[0m \u001b[43m    \u001b[49m\u001b[43m)\u001b[49m\n\u001b[1;32m    928\u001b[0m \u001b[43m    \u001b[49m\u001b[38;5;28;43;01mfor\u001b[39;49;00m\u001b[43m \u001b[49m\u001b[43m(\u001b[49m\u001b[43mcand_idx\u001b[49m\u001b[43m,\u001b[49m\u001b[43m \u001b[49m\u001b[43mparameters\u001b[49m\u001b[43m)\u001b[49m\u001b[43m,\u001b[49m\u001b[43m \u001b[49m\u001b[43m(\u001b[49m\u001b[43msplit_idx\u001b[49m\u001b[43m,\u001b[49m\u001b[43m \u001b[49m\u001b[43m(\u001b[49m\u001b[43mtrain\u001b[49m\u001b[43m,\u001b[49m\u001b[43m \u001b[49m\u001b[43mtest\u001b[49m\u001b[43m)\u001b[49m\u001b[43m)\u001b[49m\u001b[43m \u001b[49m\u001b[38;5;129;43;01min\u001b[39;49;00m\u001b[43m \u001b[49m\u001b[43mproduct\u001b[49m\u001b[43m(\u001b[49m\n\u001b[1;32m    929\u001b[0m \u001b[43m        \u001b[49m\u001b[38;5;28;43menumerate\u001b[39;49m\u001b[43m(\u001b[49m\u001b[43mcandidate_params\u001b[49m\u001b[43m)\u001b[49m\u001b[43m,\u001b[49m\n\u001b[1;32m    930\u001b[0m \u001b[43m        \u001b[49m\u001b[38;5;28;43menumerate\u001b[39;49m\u001b[43m(\u001b[49m\u001b[43mcv\u001b[49m\u001b[38;5;241;43m.\u001b[39;49m\u001b[43msplit\u001b[49m\u001b[43m(\u001b[49m\u001b[43mX\u001b[49m\u001b[43m,\u001b[49m\u001b[43m \u001b[49m\u001b[43my\u001b[49m\u001b[43m,\u001b[49m\u001b[43m \u001b[49m\u001b[38;5;241;43m*\u001b[39;49m\u001b[38;5;241;43m*\u001b[39;49m\u001b[43mrouted_params\u001b[49m\u001b[38;5;241;43m.\u001b[39;49m\u001b[43msplitter\u001b[49m\u001b[38;5;241;43m.\u001b[39;49m\u001b[43msplit\u001b[49m\u001b[43m)\u001b[49m\u001b[43m)\u001b[49m\u001b[43m,\u001b[49m\n\u001b[1;32m    931\u001b[0m \u001b[43m    \u001b[49m\u001b[43m)\u001b[49m\n\u001b[1;32m    932\u001b[0m \u001b[43m\u001b[49m\u001b[43m)\u001b[49m\n\u001b[1;32m    934\u001b[0m \u001b[38;5;28;01mif\u001b[39;00m \u001b[38;5;28mlen\u001b[39m(out) \u001b[38;5;241m<\u001b[39m \u001b[38;5;241m1\u001b[39m:\n\u001b[1;32m    935\u001b[0m     \u001b[38;5;28;01mraise\u001b[39;00m \u001b[38;5;167;01mValueError\u001b[39;00m(\n\u001b[1;32m    936\u001b[0m         \u001b[38;5;124m\"\u001b[39m\u001b[38;5;124mNo fits were performed. \u001b[39m\u001b[38;5;124m\"\u001b[39m\n\u001b[1;32m    937\u001b[0m         \u001b[38;5;124m\"\u001b[39m\u001b[38;5;124mWas the CV iterator empty? \u001b[39m\u001b[38;5;124m\"\u001b[39m\n\u001b[1;32m    938\u001b[0m         \u001b[38;5;124m\"\u001b[39m\u001b[38;5;124mWere there no candidates?\u001b[39m\u001b[38;5;124m\"\u001b[39m\n\u001b[1;32m    939\u001b[0m     )\n",
            "File \u001b[0;32m~/Documents/Universidad/Tercero/Aprendizaje automático/aprendizajeAutomatico-G03/.venv/lib64/python3.11/site-packages/sklearn/utils/parallel.py:67\u001b[0m, in \u001b[0;36mParallel.__call__\u001b[0;34m(self, iterable)\u001b[0m\n\u001b[1;32m     62\u001b[0m config \u001b[38;5;241m=\u001b[39m get_config()\n\u001b[1;32m     63\u001b[0m iterable_with_config \u001b[38;5;241m=\u001b[39m (\n\u001b[1;32m     64\u001b[0m     (_with_config(delayed_func, config), args, kwargs)\n\u001b[1;32m     65\u001b[0m     \u001b[38;5;28;01mfor\u001b[39;00m delayed_func, args, kwargs \u001b[38;5;129;01min\u001b[39;00m iterable\n\u001b[1;32m     66\u001b[0m )\n\u001b[0;32m---> 67\u001b[0m \u001b[38;5;28;01mreturn\u001b[39;00m \u001b[38;5;28;43msuper\u001b[39;49m\u001b[43m(\u001b[49m\u001b[43m)\u001b[49m\u001b[38;5;241;43m.\u001b[39;49m\u001b[38;5;21;43m__call__\u001b[39;49m\u001b[43m(\u001b[49m\u001b[43miterable_with_config\u001b[49m\u001b[43m)\u001b[49m\n",
            "File \u001b[0;32m~/Documents/Universidad/Tercero/Aprendizaje automático/aprendizajeAutomatico-G03/.venv/lib64/python3.11/site-packages/joblib/parallel.py:1952\u001b[0m, in \u001b[0;36mParallel.__call__\u001b[0;34m(self, iterable)\u001b[0m\n\u001b[1;32m   1946\u001b[0m \u001b[38;5;66;03m# The first item from the output is blank, but it makes the interpreter\u001b[39;00m\n\u001b[1;32m   1947\u001b[0m \u001b[38;5;66;03m# progress until it enters the Try/Except block of the generator and\u001b[39;00m\n\u001b[1;32m   1948\u001b[0m \u001b[38;5;66;03m# reach the first `yield` statement. This starts the aynchronous\u001b[39;00m\n\u001b[1;32m   1949\u001b[0m \u001b[38;5;66;03m# dispatch of the tasks to the workers.\u001b[39;00m\n\u001b[1;32m   1950\u001b[0m \u001b[38;5;28mnext\u001b[39m(output)\n\u001b[0;32m-> 1952\u001b[0m \u001b[38;5;28;01mreturn\u001b[39;00m output \u001b[38;5;28;01mif\u001b[39;00m \u001b[38;5;28mself\u001b[39m\u001b[38;5;241m.\u001b[39mreturn_generator \u001b[38;5;28;01melse\u001b[39;00m \u001b[38;5;28;43mlist\u001b[39;49m\u001b[43m(\u001b[49m\u001b[43moutput\u001b[49m\u001b[43m)\u001b[49m\n",
            "File \u001b[0;32m~/Documents/Universidad/Tercero/Aprendizaje automático/aprendizajeAutomatico-G03/.venv/lib64/python3.11/site-packages/joblib/parallel.py:1595\u001b[0m, in \u001b[0;36mParallel._get_outputs\u001b[0;34m(self, iterator, pre_dispatch)\u001b[0m\n\u001b[1;32m   1592\u001b[0m     \u001b[38;5;28;01myield\u001b[39;00m\n\u001b[1;32m   1594\u001b[0m     \u001b[38;5;28;01mwith\u001b[39;00m \u001b[38;5;28mself\u001b[39m\u001b[38;5;241m.\u001b[39m_backend\u001b[38;5;241m.\u001b[39mretrieval_context():\n\u001b[0;32m-> 1595\u001b[0m         \u001b[38;5;28;01myield from\u001b[39;00m \u001b[38;5;28mself\u001b[39m\u001b[38;5;241m.\u001b[39m_retrieve()\n\u001b[1;32m   1597\u001b[0m \u001b[38;5;28;01mexcept\u001b[39;00m \u001b[38;5;167;01mGeneratorExit\u001b[39;00m:\n\u001b[1;32m   1598\u001b[0m     \u001b[38;5;66;03m# The generator has been garbage collected before being fully\u001b[39;00m\n\u001b[1;32m   1599\u001b[0m     \u001b[38;5;66;03m# consumed. This aborts the remaining tasks if possible and warn\u001b[39;00m\n\u001b[1;32m   1600\u001b[0m     \u001b[38;5;66;03m# the user if necessary.\u001b[39;00m\n\u001b[1;32m   1601\u001b[0m     \u001b[38;5;28mself\u001b[39m\u001b[38;5;241m.\u001b[39m_exception \u001b[38;5;241m=\u001b[39m \u001b[38;5;28;01mTrue\u001b[39;00m\n",
            "File \u001b[0;32m~/Documents/Universidad/Tercero/Aprendizaje automático/aprendizajeAutomatico-G03/.venv/lib64/python3.11/site-packages/joblib/parallel.py:1707\u001b[0m, in \u001b[0;36mParallel._retrieve\u001b[0;34m(self)\u001b[0m\n\u001b[1;32m   1702\u001b[0m \u001b[38;5;66;03m# If the next job is not ready for retrieval yet, we just wait for\u001b[39;00m\n\u001b[1;32m   1703\u001b[0m \u001b[38;5;66;03m# async callbacks to progress.\u001b[39;00m\n\u001b[1;32m   1704\u001b[0m \u001b[38;5;28;01mif\u001b[39;00m ((\u001b[38;5;28mlen\u001b[39m(\u001b[38;5;28mself\u001b[39m\u001b[38;5;241m.\u001b[39m_jobs) \u001b[38;5;241m==\u001b[39m \u001b[38;5;241m0\u001b[39m) \u001b[38;5;129;01mor\u001b[39;00m\n\u001b[1;32m   1705\u001b[0m     (\u001b[38;5;28mself\u001b[39m\u001b[38;5;241m.\u001b[39m_jobs[\u001b[38;5;241m0\u001b[39m]\u001b[38;5;241m.\u001b[39mget_status(\n\u001b[1;32m   1706\u001b[0m         timeout\u001b[38;5;241m=\u001b[39m\u001b[38;5;28mself\u001b[39m\u001b[38;5;241m.\u001b[39mtimeout) \u001b[38;5;241m==\u001b[39m TASK_PENDING)):\n\u001b[0;32m-> 1707\u001b[0m     time\u001b[38;5;241m.\u001b[39msleep(\u001b[38;5;241m0.01\u001b[39m)\n\u001b[1;32m   1708\u001b[0m     \u001b[38;5;28;01mcontinue\u001b[39;00m\n\u001b[1;32m   1710\u001b[0m \u001b[38;5;66;03m# We need to be careful: the job list can be filling up as\u001b[39;00m\n\u001b[1;32m   1711\u001b[0m \u001b[38;5;66;03m# we empty it and Python list are not thread-safe by\u001b[39;00m\n\u001b[1;32m   1712\u001b[0m \u001b[38;5;66;03m# default hence the use of the lock\u001b[39;00m\n",
            "\u001b[0;31mKeyboardInterrupt\u001b[0m: "
          ]
        }
      ],
      "source": [
        "# Knn\n",
        "from sklearn.neighbors import KNeighborsClassifier\n",
        "from sklearn.pipeline import Pipeline\n",
        "from sklearn.preprocessing import StandardScaler\n",
        "from sklearn.model_selection import GridSearchCV\n",
        "from time import time\n",
        "\n",
        "\n",
        "pipe = Pipeline([\n",
        "      ('scaler', StandardScaler()),\n",
        "      ('knn', KNeighborsClassifier())\n",
        "      ])\n",
        "\n",
        "# Se crean los parametros\n",
        "param_grid = {\"knn__n_neighbors\": list(range(10, 40, 2)),\n",
        "              \"knn__weights\": [\"uniform\", \"distance\"],\n",
        "              \"knn__algorithm\": [\"auto\", \"ball_tree\", \"kd_tree\", \"brute\"],\n",
        "              \"knn__metric\": [\"euclidean\", \"manhattan\", \"chebyshev\"]\n",
        "              }\n",
        "\n",
        "# Se realiza la HPO\n",
        "grid = GridSearchCV(pipe,\n",
        "                    param_grid,\n",
        "                    cv=3,\n",
        "                    scoring=\"f1\",\n",
        "                    verbose=1,\n",
        "                    n_jobs=-1)\n",
        "start = time()\n",
        "grid.fit(X_train, Y_train.values.ravel())\n",
        "end = time()\n",
        "\n",
        "print(\"\\nLos mejores parámetros son:\\n\", grid.best_params_, \"\\n\")\n",
        "\n",
        "\n",
        "\n",
        "f1_score[\"knn\"] = grid.best_score_\n",
        "\n",
        "print(f\"f1-score: {grid.best_score_}\")\n",
        "print(\"Tiempo de entrenamiento:\", str(round(end-start, 2)) + \"s.\")\n",
        "train_time[\"knn\"] = end - start"
      ]
    },
    {
      "cell_type": "markdown",
      "metadata": {
        "id": "K_MhelVyCl5R"
      },
      "source": [
        "Como podemos observar, la f1-score del KNN es un resultado muy bueno, y conseguido relativamente rápido. Además, mejora el clasificador dummy, por lo tanto observamos que este es un buen modelo."
      ]
    },
    {
      "cell_type": "markdown",
      "metadata": {
        "id": "jdTkLJftkvNg"
      },
      "source": [
        "## **4.3. Árbol de decisión**\n",
        "El siguiente modelo a entrenar es el árbol de búsqueda, el cual pensamos que puede proporcionar buenos resultados, dada la naturaleza del problema y los resultados en el caso de la regresión."
      ]
    },
    {
      "cell_type": "code",
      "execution_count": null,
      "metadata": {
        "colab": {
          "base_uri": "https://localhost:8080/"
        },
        "id": "RuLfcEsKkoE-",
        "outputId": "11efc9cd-6a04-48b0-8089-bbc80e2e0a00"
      },
      "outputs": [
        {
          "name": "stdout",
          "output_type": "stream",
          "text": [
            "Fitting 3 folds for each of 6336 candidates, totalling 19008 fits\n",
            "\n",
            "Los mejores parámetros son:\n",
            " {'class_weight': None, 'criterion': 'gini', 'max_depth': 4, 'min_samples_split': 75, 'splitter': 'best'} \n",
            "\n",
            "f1: 0.9169094884180286\n",
            "Tiempo de ejecución: 790.44s.\n"
          ]
        }
      ],
      "source": [
        "\n",
        "\n",
        "from sklearn.tree import DecisionTreeClassifier\n",
        "import numpy as np\n",
        "\n",
        "np.random.seed(100472092)\n",
        "# Espacio de búsqueda\n",
        "\n",
        "param_grid = {'max_depth': list(range(2, 24, 1)),\n",
        "              'min_samples_split':list(range(30, 101, 3)),\n",
        "              \"criterion\": [\"gini\", \"entropy\", \"log_loss\"],\n",
        "              \"splitter\": [\"best\", \"random\"],\n",
        "              \"class_weight\": [\"balanced\", None]}\n",
        "\n",
        "grid = GridSearchCV(DecisionTreeClassifier(),\n",
        "                         param_grid,\n",
        "                         scoring='f1',\n",
        "                         cv=kfold,\n",
        "                         n_jobs=-1,\n",
        "                         verbose=1)\n",
        "\n",
        "start = time()\n",
        "grid.fit(X=X_train, y=Y_train)\n",
        "end = time()\n",
        "\n",
        "print(\"\\nLos mejores parámetros son:\\n\", grid.best_params_, \"\\n\")\n",
        "\n",
        "f1_score[\"tree\"] = grid.best_score_\n",
        "\n",
        "print(\"f1:\", str(grid.best_score_))\n",
        "print(\"Tiempo de ejecución:\", str(round(end - start, 2)) + \"s.\")\n",
        "train_time[\"tree\"] = end - start\n",
        "\n"
      ]
    },
    {
      "cell_type": "markdown",
      "metadata": {
        "id": "ttJOaIJlDKA5"
      },
      "source": [
        "De manera similar al KNN, el árbol ha sacado muy buenos resultados, incluso mejores que el modelo anterior. Es también destacable que es mejor que el dummy y mucho más rápido que el KNN dado el número de fits entrenado en el corto tiempo."
      ]
    },
    {
      "cell_type": "markdown",
      "metadata": {
        "id": "4b4cP3UrbGP_"
      },
      "source": [
        "## **4.4 SVM**\n",
        "Usaremos un SVM para este apartado. De la misma manera que con el SVR, haremos la evaluación con tres modelos distintos, uno con cada tipo de kernel, para evitar combinaciones innecesarias y así ahorrar tiempo de entrenamiento."
      ]
    },
    {
      "cell_type": "code",
      "execution_count": null,
      "metadata": {
        "colab": {
          "base_uri": "https://localhost:8080/"
        },
        "id": "C5DlRNwjbGHL",
        "outputId": "ab6b9fc9-3621-477d-ea43-83ef81932bc9"
      },
      "outputs": [
        {
          "name": "stdout",
          "output_type": "stream",
          "text": [
            "==========Kernel linear==========\n",
            "Fitting 3 folds for each of 3 candidates, totalling 9 fits\n",
            "\n",
            "Los mejores parámetros son:\n",
            " {'svm__C': 1} \n",
            "\n",
            "F1_score: 0.8970416467725707\n",
            "Tiempo de entrenamiento: 34.91s.\n",
            "==========Kernel poly==========\n",
            "Fitting 3 folds for each of 36 candidates, totalling 108 fits\n",
            "\n",
            "Los mejores parámetros son:\n",
            " {'svm__C': 1, 'svm__coef0': 0.1, 'svm__degree': 2, 'svm__gamma': 'scale'} \n",
            "\n",
            "F1_score: 0.9171918280799115\n",
            "Tiempo de entrenamiento: 40.4s.\n",
            "==========Kernel rbf==========\n",
            "Fitting 3 folds for each of 6 candidates, totalling 18 fits\n",
            "\n",
            "Los mejores parámetros son:\n",
            " {'svm__C': 1, 'svm__gamma': 'scale'} \n",
            "\n",
            "F1_score: 0.9140890627868038\n",
            "Tiempo de entrenamiento: 5.41s.\n"
          ]
        }
      ],
      "source": [
        "from sklearn.svm import SVC\n",
        "\n",
        "kernels = [\"linear\", \"poly\", \"rbf\"]\n",
        "\n",
        "# Hiperparámetros kernel lineal\n",
        "param_grid_linear = {\n",
        "              \"svm__C\": [1, 10, 100],\n",
        "              }\n",
        "\n",
        "# Hiperparámetros kernel poly\n",
        "param_grid_poly = {\n",
        "              \"svm__C\": [1, 10, 100],\n",
        "              \"svm__degree\": list(range(1,4,1)),\n",
        "              \"svm__gamma\": [\"scale\", \"auto\"],\n",
        "              \"svm__coef0\": [0.0, 0.1]\n",
        "              }\n",
        "\n",
        "# Hiperparámetros kernel rbf\n",
        "param_grid_rbf = {\n",
        "              \"svm__C\": [1, 10, 100],\n",
        "              \"svm__gamma\": [\"scale\", \"auto\"]\n",
        "              }\n",
        "\n",
        "for k in kernels:\n",
        "  print(\"==========Kernel\", k + \"==========\")\n",
        "\n",
        "  # Se crea el regresor con kernel\n",
        "  svm = SVC(kernel=k)\n",
        "\n",
        "  # Se crea la pipeline\n",
        "  pipe = Pipeline([\n",
        "        ('scaler', StandardScaler()),\n",
        "        ('svm', svm)\n",
        "        ])\n",
        "\n",
        "  # Se realiza la HPO\n",
        "  match(k):\n",
        "    case \"linear\":\n",
        "      param_grid = param_grid_linear\n",
        "\n",
        "    case \"poly\":\n",
        "      param_grid = param_grid_poly\n",
        "\n",
        "    case \"rbf\":\n",
        "      param_grid = param_grid_rbf\n",
        "\n",
        "  grid = GridSearchCV(pipe,\n",
        "                      param_grid,\n",
        "                      cv=kfold,\n",
        "                      scoring=\"f1\",\n",
        "                      verbose=1,\n",
        "                      n_jobs=-1)\n",
        "\n",
        "  start = time()\n",
        "  grid.fit(X_train, Y_train.values.ravel())\n",
        "  end = time()\n",
        "\n",
        "  print(\"\\nLos mejores parámetros son:\\n\", grid.best_params_, \"\\n\")\n",
        "\n",
        "  # Se obtiene el f1 del mejor modelo\n",
        "  f1 = grid.best_score_\n",
        "\n",
        "  f1_score[\"svm_\"+k] = grid.best_score_\n",
        "  print(\"F1_score:\", str(f1))\n",
        "  print(\"Tiempo de entrenamiento:\", str(round(end-start,2)) + \"s.\")\n",
        "  train_time[\"svm_\"+k] = end - start"
      ]
    },
    {
      "cell_type": "markdown",
      "metadata": {
        "id": "4dfFgdpMDaV9"
      },
      "source": [
        "Vemos que el SVM es el peor de los tres, si bien mejora el dummy, no aporta un resultado tan alto como los otros modelos. Cabe destacar también el alto tiempo de entrenamiento dada la cantidad de fits del kernel lineal."
      ]
    },
    {
      "cell_type": "markdown",
      "metadata": {
        "id": "qIw2rDKUbF9S"
      },
      "source": [
        "## **4.5 Modelo final**\n",
        "Para elegir el mejor modelo, dibujaremos los errores y los tiempos de entrenamiento de cada uno de los modelos en dos diagramas de barras. Tras esto, elegiremos el mejor modelo de clasifcación."
      ]
    },
    {
      "cell_type": "code",
      "execution_count": null,
      "metadata": {
        "colab": {
          "base_uri": "https://localhost:8080/",
          "height": 899
        },
        "id": "bh0RWYFdlYak",
        "outputId": "975714f5-f288-4471-cc38-8740cf2c469c"
      },
      "outputs": [
        {
          "data": {
            "image/png": "[encoded data removed]",
            "text/plain": [
              "<Figure size 640x480 with 1 Axes>"
            ]
          },
          "metadata": {},
          "output_type": "display_data"
        },
        {
          "data": {
            "image/png": "[encoded data removed]",
            "text/plain": [
              "<Figure size 640x480 with 1 Axes>"
            ]
          },
          "metadata": {},
          "output_type": "display_data"
        }
      ],
      "source": [
        "import matplotlib.pyplot as plt\n",
        "import seaborn as sns\n",
        "# Colores del diagrama\n",
        "colores = [\"blue\", \"red\", \"red\", \"red\", \"green\"]\n",
        "sns.set(font_scale=0.5)\n",
        "\n",
        "# Valores del mae\n",
        "titulos_mae = f1_score.keys()\n",
        "valores_mae = f1_score.values()\n",
        "titulos_time = train_time.keys()\n",
        "valores_time = train_time.values()\n",
        "\n",
        "# Plotear el mae\n",
        "sns.barplot(x=titulos_mae, y=valores_mae, width=0.6, palette=colores, hue=titulos_mae, legend=False)\n",
        "\n",
        "plt.xlabel(\"Modelos\")\n",
        "plt.ylabel(\"MAE\")\n",
        "plt.title(\"Modelos - MAE\")\n",
        "\n",
        "plt.show()\n",
        "\n",
        "sns.barplot(x=titulos_time, y=valores_time, width=0.6, palette=colores, hue=titulos_time, legend=False)\n",
        "plt.xlabel(\"Modelos\")\n",
        "plt.ylabel(\"Time\")\n",
        "plt.title(\"Modelos - time\")\n",
        "plt.show()"
      ]
    },
    {
      "cell_type": "markdown",
      "metadata": {
        "id": "736xt0hyl_PJ"
      },
      "source": [
        "Como se puede observar, el mejor modelo con la *f1_score* es el árbol de decisión. Es por ello que construiremos el modelo final con este.\n",
        "\n",
        "## **4.6 Modelo final y matriz de correlación**\n",
        "Para ver la calidad del modelo final, usaremos la matriz de correlación. Como se puede observar, la score final es prácticamente de 0.9, acertando muchos *tue positive* y *true negative*.\n",
        "\n",
        "Sin embargo, también observamos que las clases instanciadas como *high* tienen un alto número de *false positive*, lo cual nos hace inducir que el modelo no termina de clasificar correctamente las clases desbalanceadas."
      ]
    },
    {
      "cell_type": "code",
      "execution_count": null,
      "metadata": {
        "colab": {
          "base_uri": "https://localhost:8080/",
          "height": 460
        },
        "id": "aDhAlr4bleC1",
        "outputId": "f393a362-6ba9-4bcb-f868-24a6d2603ca6"
      },
      "outputs": [
        {
          "ename": "NameError",
          "evalue": "name 'DecisionTreeClassifier' is not defined",
          "output_type": "error",
          "traceback": [
            "\u001b[0;31m---------------------------------------------------------------------------\u001b[0m",
            "\u001b[0;31mNameError\u001b[0m                                 Traceback (most recent call last)",
            "Cell \u001b[0;32mIn[1], line 4\u001b[0m\n\u001b[1;32m      2\u001b[0m \u001b[38;5;28;01mfrom\u001b[39;00m \u001b[38;5;21;01msklearn\u001b[39;00m\u001b[38;5;21;01m.\u001b[39;00m\u001b[38;5;21;01mmetrics\u001b[39;00m \u001b[38;5;28;01mimport\u001b[39;00m accuracy_score\n\u001b[1;32m      3\u001b[0m \u001b[38;5;28;01mfrom\u001b[39;00m \u001b[38;5;21;01msklearn\u001b[39;00m\u001b[38;5;21;01m.\u001b[39;00m\u001b[38;5;21;01mmetrics\u001b[39;00m \u001b[38;5;28;01mimport\u001b[39;00m confusion_matrix, ConfusionMatrixDisplay\n\u001b[0;32m----> 4\u001b[0m best \u001b[38;5;241m=\u001b[39m \u001b[43mDecisionTreeClassifier\u001b[49m(class_weight\u001b[38;5;241m=\u001b[39m\u001b[38;5;28;01mNone\u001b[39;00m, criterion\u001b[38;5;241m=\u001b[39m\u001b[38;5;124m'\u001b[39m\u001b[38;5;124mgini\u001b[39m\u001b[38;5;124m'\u001b[39m, max_depth\u001b[38;5;241m=\u001b[39m\u001b[38;5;241m4\u001b[39m, min_samples_split\u001b[38;5;241m=\u001b[39m\u001b[38;5;241m75\u001b[39m, splitter\u001b[38;5;241m=\u001b[39m\u001b[38;5;124m'\u001b[39m\u001b[38;5;124mbest\u001b[39m\u001b[38;5;124m'\u001b[39m)\n\u001b[1;32m      6\u001b[0m best\u001b[38;5;241m.\u001b[39mfit(X_train, Y_train)\n\u001b[1;32m      7\u001b[0m y_pred \u001b[38;5;241m=\u001b[39m best\u001b[38;5;241m.\u001b[39mpredict(X_test)\n",
            "\u001b[0;31mNameError\u001b[0m: name 'DecisionTreeClassifier' is not defined"
          ]
        }
      ],
      "source": [
        "from sklearn.metrics import f1_score\n",
        "from sklearn.metrics import accuracy_score\n",
        "from sklearn.metrics import confusion_matrix, ConfusionMatrixDisplay\n",
        "best = DecisionTreeClassifier(class_weight=None, criterion='gini', max_depth=4, min_samples_split=75, splitter='best')\n",
        "\n",
        "best.fit(X_train, Y_train)\n",
        "y_pred = best.predict(X_test)\n",
        "score = f1_score(Y_test, y_pred)\n",
        "acc = accuracy_score(Y_test, y_pred)\n",
        "matrix = confusion_matrix(Y_test, y_pred, labels=best.classes_)\n",
        "\n",
        "ConfusionMatrixDisplay(confusion_matrix=confusion_matrix(Y_test, y_pred), display_labels=best.classes_).plot()\n",
        "\n",
        "print(score)\n",
        "print(acc)\n",
        "plt.show()"
      ]
    }
  ],
  "metadata": {
    "colab": {
      "provenance": []
    },
    "kernelspec": {
      "display_name": ".venv",
      "language": "python",
      "name": "python3"
    },
    "language_info": {
      "codemirror_mode": {
        "name": "ipython",
        "version": 3
      },
      "file_extension": ".py",
      "mimetype": "text/x-python",
      "name": "python",
      "nbconvert_exporter": "python",
      "pygments_lexer": "ipython3",
      "version": "3.11.8"
    }
  },
  "nbformat": 4,
  "nbformat_minor": 0
}
