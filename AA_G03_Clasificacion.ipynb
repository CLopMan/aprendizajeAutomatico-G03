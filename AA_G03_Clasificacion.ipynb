{
 "cells": [
  {
   "cell_type": "markdown",
   "metadata": {},
   "source": [
    "# **Modelo final - Grupo03**\n",
    "\n",
    "## **Authors**\n",
    "- César López Mantecón - 100472092\n",
    "- Manuel Gómez-Plana Rodríguez - 100472310\n",
    "\n",
    "## **Repositorio**\n",
    "Esta práctica se ha llevado a cabo en [este repositorio de github](https://github.com/CLopMan/aprendizajeAutomatico-G03)\n",
    "\n",
    "## Introducción \n",
    "En este cuaderno se resolverá un problema similar. Las instancias de energía se han clasificado en \"low\" o \"high\" según si su valor es inferior o superior al valor del tercer cuartil. \n"
   ]
  },
  {
   "cell_type": "code",
   "execution_count": 4,
   "metadata": {},
   "outputs": [],
   "source": [
    "import pandas as pd \n",
    "\n",
    "\n",
    "raw_data = pd.read_csv(\"wind_ava.csv.gz\", compression='gzip') \n",
    "sotavento = raw_data.filter(regex='13$|energy|datetime') # eliminacion de instancias no referentes a Sotavento\n",
    "\n",
    "Q3 = sotavento[\"energy\"].quantile(0.75)\n",
    "sotavento.insert(1, \"energyTag\", [\"high\" for i in range(len(sotavento))])\n",
    "\n",
    "def myfunc(v):\n",
    "    if v < Q3:\n",
    "        return \"low\"\n",
    "    else:\n",
    "        return \"high\"\n",
    "cont = 0\n",
    "for i, v in enumerate(sotavento[\"energy\"]):\n",
    "    if v < Q3:\n",
    "        sotavento.loc[i, \"energyTag\"] = \"low\"\n",
    "        cont += 1\n",
    "sotavento = sotavento.drop(\"energy\", axis=1)\n"
   ]
  },
  {
   "cell_type": "markdown",
   "metadata": {},
   "source": [
    "## Clases desbalanceadas\n",
    "Si observamos los valores de `energyTag`, la nueva columna del dataframe que indica la clase de cada instancia, podemos ver que las clases están desbalanceadas. "
   ]
  },
  {
   "cell_type": "code",
   "execution_count": 5,
   "metadata": {},
   "outputs": [
    {
     "name": "stdout",
     "output_type": "stream",
     "text": [
      "Número de instancias 'low': 3561\n",
      "Número de instancias 'high':1187\n"
     ]
    },
    {
     "data": {
      "text/plain": [
       "<Axes: ylabel='count'>"
      ]
     },
     "execution_count": 5,
     "metadata": {},
     "output_type": "execute_result"
    },
    {
     "data": {
      "image/png": "[encoded data removed]",
      "text/plain": [
       "<Figure size 640x480 with 1 Axes>"
      ]
     },
     "metadata": {},
     "output_type": "display_data"
    }
   ],
   "source": [
    "print(f\"Número de instancias \\'low\\': {cont}\\nNúmero de instancias \\'high\\':{len(sotavento) - cont}\")\n",
    "\n",
    "sotavento[\"energyTag\"].value_counts().plot(kind=\"pie\")"
   ]
  }
 ],
 "metadata": {
  "kernelspec": {
   "display_name": ".venv",
   "language": "python",
   "name": "python3"
  },
  "language_info": {
   "codemirror_mode": {
    "name": "ipython",
    "version": 3
   },
   "file_extension": ".py",
   "mimetype": "text/x-python",
   "name": "python",
   "nbconvert_exporter": "python",
   "pygments_lexer": "ipython3",
   "version": "3.11.8"
  }
 },
 "nbformat": 4,
 "nbformat_minor": 2
}
