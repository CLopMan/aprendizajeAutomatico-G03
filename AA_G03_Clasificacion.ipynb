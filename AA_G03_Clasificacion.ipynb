{
  "cells": [
    {
      "cell_type": "markdown",
      "metadata": {
        "id": "GAmL3Bb2Fvi0"
      },
      "source": [
        "# **Modelos de clasificación - Grupo03**"
      ]
    },
    {
      "cell_type": "markdown",
      "metadata": {
        "id": "YK4sxHUBFvcY"
      },
      "source": [
        "## **Authors**\n",
        "\n",
        "- César López Mantecón - 100472092\n",
        "- Manuel Gómez-Plana Rodríguez - 100472310\n",
        "\n"
      ]
    },
    {
      "cell_type": "markdown",
      "metadata": {
        "id": "EW5DK7qyFvRJ"
      },
      "source": [
        "## **Repositorio**\n",
        "\n",
        "Esta práctica se ha llevado a cabo en este [repositorio de github](https://github.com/CLopMan/aprendizajeAutomatico-G03)\n",
        "\n",
        "## **Introducción**\n",
        "\n",
        "En este cuaderno se resolverá un problema similar. Las instancias de energía se han clasificado en \"low\" o \"high\" según si su valor es inferior o superior al valor del tercer cuartil. En este cuaderno trataremos de entrenar un modelo capaz de clasificar nuevas instancias en estas clases.\n",
        "\n",
        "# **1. Transformación de datos**\n",
        "\n",
        "El primer paso para el problema de clasificación es aplicar una transformación a la variable de salida. Es por ello que calculamos el tercer cuantil y transformamos la variable de salida respecto a este.  "
      ]
    },
    {
      "cell_type": "code",
      "execution_count": 33,
      "metadata": {
        "colab": {
          "base_uri": "https://localhost:8080/"
        },
        "id": "jt1inLnmd3ic",
        "outputId": "3fdfb4c1-e304-4581-9623-d1747856846e"
      },
      "outputs": [],
      "source": [
        "#from google.colab import drive\n",
        "#drive.mount('/content/drive')"
      ]
    },
    {
      "cell_type": "code",
      "execution_count": 34,
      "metadata": {
        "id": "-K8Crt_AFmtB"
      },
      "outputs": [],
      "source": [
        "import pandas as pd\n",
        "\n",
        "#raw_data = pd.read_csv(\"/content/drive/MyDrive/wind_ava.csv\") # cambiar para la entrega final\n",
        "raw_data = pd.read_csv(\"wind_ava.csv.gz\", compression='gzip')\n",
        "sotavento = raw_data.filter(regex='13$|energy|datetime') # eliminacion de instancias no referentes a Sotavento\n",
        "\n",
        "Q3 = sotavento[\"energy\"].quantile(0.75)\n",
        "sotavento.insert(1, \"energyTag\", [0 for i in range(len(sotavento))])\n",
        "\n",
        "def myfunc(v):\n",
        "    if v < Q3:\n",
        "        return \"low\"\n",
        "    else:\n",
        "        return \"high\"\n",
        "\n",
        "cont = 0\n",
        "for i, v in enumerate(sotavento[\"energy\"]):\n",
        "    if v < Q3:\n",
        "        sotavento.loc[i, \"energyTag\"] = 1\n",
        "        cont += 1\n",
        "\n",
        "sotavento = sotavento.drop(\"energy\", axis=1)"
      ]
    },
    {
      "cell_type": "markdown",
      "metadata": {
        "id": "Nu0w61LBZkxe"
      },
      "source": [
        "# **2. Clases desbalanceadas**\n",
        "\n",
        "Si observamos los valores de energyTag, la nueva columna del dataframe que indica la clase de cada instancia, podemos ver que las clases están desbalanceadas.\n"
      ]
    },
    {
      "cell_type": "code",
      "execution_count": 35,
      "metadata": {
        "colab": {
          "base_uri": "https://localhost:8080/",
          "height": 458
        },
        "id": "Rfw7t4qZZknX",
        "outputId": "28c871a6-b11a-4172-9342-00c26e62a9d5"
      },
      "outputs": [
        {
          "name": "stdout",
          "output_type": "stream",
          "text": [
            "Número de instancias 'low': 3561\n",
            "Número de instancias 'high':1187\n"
          ]
        },
        {
          "data": {
            "text/plain": [
              "<Axes: ylabel='count'>"
            ]
          },
          "execution_count": 35,
          "metadata": {},
          "output_type": "execute_result"
        },
        {
          "data": {
            "image/png": "[encoded data removed]",
            "text/plain": [
              "<Figure size 640x480 with 1 Axes>"
            ]
          },
          "metadata": {},
          "output_type": "display_data"
        }
      ],
      "source": [
        "print(f\"Número de instancias \\'low\\': {cont}\\nNúmero de instancias \\'high\\':{len(sotavento) - cont}\")\n",
        "\n",
        "sotavento[\"energyTag\"].value_counts().plot(kind=\"pie\")"
      ]
    },
    {
      "cell_type": "markdown",
      "metadata": {
        "id": "yDeoN09VZkd4"
      },
      "source": [
        "## **2.1. División entre train y test**\n",
        "Para poder balancear las clases, primero necesitaremos dividir, entre train y test los datos.\n"
      ]
    },
    {
      "cell_type": "code",
      "execution_count": 50,
      "metadata": {
        "colab": {
          "base_uri": "https://localhost:8080/"
        },
        "id": "Sr7bST3IaD4G",
        "outputId": "0d694323-a191-40b2-8bbc-a36b4df9ca9a"
      },
      "outputs": [
        {
          "name": "stdout",
          "output_type": "stream",
          "text": [
            "Hay 1099 instancias de 2008 y 2009\n"
          ]
        }
      ],
      "source": [
        "from sklearn.model_selection import train_test_split\n",
        "\n",
        "size = 0\n",
        "\n",
        "res = pd.to_datetime(sotavento[\"datetime\"], unit='ns').astype(str)\n",
        "\n",
        "for ind, data in res.items():\n",
        "  if data.startswith(\"2008\") or data.startswith(\"2009\"):\n",
        "    size += 1\n",
        "\n",
        "print(\"Hay\", str(size), \"instancias de 2008 y 2009\")\n",
        "\n",
        "# Se obtienen los datos\n",
        "X = sotavento.drop([\"energyTag\", \"datetime\"], axis=\"columns\")\n",
        "Y = sotavento[[\"energyTag\"]]\n",
        "\n",
        "train, test = train_test_split(sotavento, test_size=size, shuffle=False)\n",
        "\n",
        "X_train = train.drop([\"energyTag\", \"datetime\"], axis=\"columns\")\n",
        "Y_train = train[[\"energyTag\"]]\n",
        "X_test = test.drop([\"energyTag\", \"datetime\"], axis=\"columns\")\n",
        "Y_test = test[[\"energyTag\"]]"
      ]
    },
    {
      "cell_type": "markdown",
      "metadata": {},
      "source": [
        "# Dummy\n"
      ]
    },
    {
      "cell_type": "code",
      "execution_count": 51,
      "metadata": {},
      "outputs": [
        {
          "name": "stdout",
          "output_type": "stream",
          "text": [
            "3649 3649\n",
            "Precisión del clasificador dummy: 0.851619644723093\n"
          ]
        }
      ],
      "source": [
        "from sklearn.dummy import DummyClassifier\n",
        "from sklearn.metrics import f1_score\n",
        "\n",
        "# Generar datos de ejemplo\n",
        "dummy_classifier = DummyClassifier(strategy=\"most_frequent\")\n",
        "print(len(X_train), len(Y_train))\n",
        "dummy_classifier.fit(X_train, Y_train)\n",
        "\n",
        "\n",
        "# Predecir con el conjunto de prueba\n",
        "dummy_pred = dummy_classifier.predict(X_test)\n",
        "\n",
        "# Calcular la precisión\n",
        "f1 = f1_score(Y_test, dummy_pred)\n",
        "print(\"Precisión del clasificador dummy:\", f1)\n"
      ]
    },
    {
      "cell_type": "markdown",
      "metadata": {
        "id": "PH5HEXL0aS1P"
      },
      "source": [
        "# **3. Evaluación del modelo**\n",
        "Para poder realizar modelos de clasificación, es necesario clarificar las métricas que usaremos para la evaluación inner y la evaluación outer.\n",
        "\n",
        "## **3.1 Evaluación Inner**\n",
        "\n",
        "Utilizaremos validación cruzada con k = 3 para la evaluación inner. Descartamos usar time series split debido a la nueva naturaleza del problema.\n",
        "\n",
        "## **3.2 Evaluación Outer**\n",
        "Para la evaluación outer, haremos un split dejando 2007 y 2008 para evaluar y el resto de años para entrenar.\n",
        "\n",
        "## **3.3 Métricas de evaluación**\n",
        "\n",
        "Para evaluar el modelo, utilizaremos la métrica de F1-score debido a que se trata de un problema con clases desbalanceadas. Esta métrica no es sensible al desequilibrio de clases.\n",
        "\n"
      ]
    },
    {
      "cell_type": "markdown",
      "metadata": {
        "id": "VubhVijKbHn1"
      },
      "source": [
        "# **4. Modelos de clasificación**\n",
        "En este apartado, haremos HPO con los 4 métodos, que hemos usado en el apartado anterior, comparando finalmente los modelos para elegir el mejor.\n",
        "\n",
        "## **4.1. K-folds**\n",
        "Lo primero que deberemos hacer es dividir las partes inner del problema, creando el objeto de K-folds."
      ]
    },
    {
      "cell_type": "code",
      "execution_count": 38,
      "metadata": {
        "id": "vtQ0nYYXcIpV"
      },
      "outputs": [],
      "source": [
        "from sklearn.model_selection import KFold\n",
        "\n",
        "kfold = KFold(3)\n",
        "f1_score = {}\n",
        "train_time = {}"
      ]
    },
    {
      "cell_type": "markdown",
      "metadata": {
        "id": "uW1HB4DFTUww"
      },
      "source": [
        "## **4.2. KNN**"
      ]
    },
    {
      "cell_type": "code",
      "execution_count": 39,
      "metadata": {
        "colab": {
          "base_uri": "https://localhost:8080/"
        },
        "id": "uAFelejlTAnV",
        "outputId": "f5de6ba0-357e-4f5a-d5d1-070aa83cca97"
      },
      "outputs": [
        {
          "name": "stdout",
          "output_type": "stream",
          "text": [
            "Fitting 3 folds for each of 720 candidates, totalling 2160 fits\n"
          ]
        },
        {
          "name": "stdout",
          "output_type": "stream",
          "text": [
            "\n",
            "Los mejores parámetros son:\n",
            " {'knn__algorithm': 'auto', 'knn__metric': 'manhattan', 'knn__n_neighbors': 38, 'knn__weights': 'distance'} \n",
            "\n",
            "f1-score: 0.9073982854522088\n",
            "Tiempo de entrenamiento: 27.91s.\n"
          ]
        }
      ],
      "source": [
        "# Knn\n",
        "from sklearn.neighbors import KNeighborsClassifier\n",
        "from sklearn.pipeline import Pipeline\n",
        "from sklearn.preprocessing import StandardScaler\n",
        "from sklearn.model_selection import GridSearchCV\n",
        "from time import time\n",
        "\n",
        "\n",
        "pipe = Pipeline([\n",
        "      ('scaler', StandardScaler()),\n",
        "      ('knn', KNeighborsClassifier())\n",
        "      ])\n",
        "\n",
        "# Se crean los parametros\n",
        "param_grid = {\"knn__n_neighbors\": list(range(10, 40, 1)),\n",
        "              \"knn__weights\": [\"uniform\", \"distance\"],\n",
        "              \"knn__algorithm\": [\"auto\", \"ball_tree\", \"kd_tree\", \"brute\"],\n",
        "              \"knn__metric\": [\"euclidean\", \"manhattan\", \"chebyshev\"]\n",
        "              }\n",
        "\n",
        "# Se realiza la HPO\n",
        "grid = GridSearchCV(pipe,\n",
        "                    param_grid,\n",
        "                    cv=kfold,\n",
        "                    scoring=\"f1\",\n",
        "                    verbose=1,\n",
        "                    n_jobs=-1)\n",
        "start = time()\n",
        "grid.fit(X_train, Y_train.values.ravel())\n",
        "end = time()\n",
        "\n",
        "print(\"\\nLos mejores parámetros son:\\n\", grid.best_params_, \"\\n\")\n",
        "\n",
        "\n",
        "\n",
        "f1_score[\"knn\"] = grid.best_score_\n",
        "\n",
        "print(f\"f1-score: {grid.best_score_}\")\n",
        "print(\"Tiempo de entrenamiento:\", str(round(end-start, 2)) + \"s.\")\n",
        "train_time[\"knn\"] = end - start"
      ]
    },
    {
      "cell_type": "markdown",
      "metadata": {
        "id": "4b4cP3UrbGP_"
      },
      "source": [
        "## **4.4 SVM**\n",
        "Usaremos un SVM para este apartado. De la misma manera que con el SVR, haremos la evaluación con tres modelos distintos, uno con cada tipo de kernel, para evitar combinaciones innecesarias y así ahorra tiempo de entrenamiento."
      ]
    },
    {
      "cell_type": "code",
      "execution_count": 40,
      "metadata": {
        "colab": {
          "base_uri": "https://localhost:8080/"
        },
        "id": "C5DlRNwjbGHL",
        "outputId": "8fc958bc-8883-462f-8fce-1e4e1b05b578"
      },
      "outputs": [
        {
          "name": "stdout",
          "output_type": "stream",
          "text": [
            "==========Kernel linear==========\n",
            "Fitting 3 folds for each of 6 candidates, totalling 18 fits\n",
            "\n",
            "Los mejores parámetros son:\n",
            " {'svm__C': 1, 'svm__class_weight': None} \n",
            "\n",
            "F1_score: 0.8970416467725707\n",
            "Tiempo de entrenamiento: 8.98s.\n",
            "==========Kernel poly==========\n",
            "Fitting 3 folds for each of 72 candidates, totalling 216 fits\n",
            "\n",
            "Los mejores parámetros son:\n",
            " {'svm__C': 1, 'svm__class_weight': None, 'svm__coef0': 0.1, 'svm__degree': 2, 'svm__gamma': 'scale'} \n",
            "\n",
            "F1_score: 0.9171918280799115\n",
            "Tiempo de entrenamiento: 9.0s.\n",
            "==========Kernel rbf==========\n",
            "Fitting 3 folds for each of 12 candidates, totalling 36 fits\n",
            "\n",
            "Los mejores parámetros son:\n",
            " {'svm__C': 1, 'svm__class_weight': None, 'svm__gamma': 'scale'} \n",
            "\n",
            "F1_score: 0.9140890627868038\n",
            "Tiempo de entrenamiento: 1.17s.\n"
          ]
        }
      ],
      "source": [
        "from sklearn.svm import SVC\n",
        "\n",
        "kernels = [\"linear\", \"poly\", \"rbf\"]\n",
        "\n",
        "# Hiperparámetros kernel lineal\n",
        "param_grid_linear = {\n",
        "              \"svm__C\": [1, 10, 100],\n",
        "              \"svm__class_weight\":[None, \"balanced\"]\n",
        "              }\n",
        "\n",
        "# Hiperparámetros kernel poly\n",
        "param_grid_poly = {\n",
        "              \"svm__C\": [1, 10, 100],\n",
        "              \"svm__degree\": list(range(1,4,1)),\n",
        "              \"svm__gamma\": [\"scale\", \"auto\"],\n",
        "              \"svm__coef0\": [0.0, 0.1],\n",
        "              \"svm__class_weight\":[None, \"balanced\"]\n",
        "              }\n",
        "\n",
        "# Hiperparámetros kernel rbf\n",
        "param_grid_rbf = {\n",
        "              \"svm__C\": [1, 10, 100],\n",
        "              \"svm__gamma\": [\"scale\", \"auto\"],\n",
        "              \"svm__class_weight\":[None, \"balanced\"]\n",
        "              }\n",
        "\n",
        "for k in kernels:\n",
        "  print(\"==========Kernel\", k + \"==========\")\n",
        "\n",
        "  # Se crea el regresor con kernel\n",
        "  svm = SVC(kernel=k)\n",
        "\n",
        "  # Se crea la pipeline\n",
        "  pipe = Pipeline([\n",
        "        ('scaler', StandardScaler()),\n",
        "        ('svm', svm)\n",
        "        ])\n",
        "\n",
        "  # Se realiza la HPO\n",
        "  match(k):\n",
        "    case \"linear\":\n",
        "      param_grid = param_grid_linear\n",
        "\n",
        "    case \"poly\":\n",
        "      param_grid = param_grid_poly\n",
        "\n",
        "    case \"rbf\":\n",
        "      param_grid = param_grid_rbf\n",
        "\n",
        "  grid = GridSearchCV(pipe,\n",
        "                      param_grid,\n",
        "                      cv=kfold,\n",
        "                      scoring=\"f1\",\n",
        "                      verbose=1,\n",
        "                      n_jobs=-1)\n",
        "\n",
        "  start = time()\n",
        "  grid.fit(X_train, Y_train.values.ravel())\n",
        "  end = time()\n",
        "\n",
        "  print(\"\\nLos mejores parámetros son:\\n\", grid.best_params_, \"\\n\")\n",
        "\n",
        "  # Se obtiene el f1 del mejor modelo\n",
        "  f1 = grid.best_score_\n",
        "\n",
        "  f1_score[\"svm_\"+k] = grid.best_score_\n",
        "  print(\"F1_score:\", str(f1))\n",
        "  print(\"Tiempo de entrenamiento:\", str(round(end-start,2)) + \"s.\")\n",
        "  train_time[\"svm_\"+k] = end - start"
      ]
    },
    {
      "cell_type": "markdown",
      "metadata": {
        "id": "qIw2rDKUbF9S"
      },
      "source": [
        "# Árbol de decisión "
      ]
    },
    {
      "cell_type": "code",
      "execution_count": 41,
      "metadata": {},
      "outputs": [
        {
          "name": "stdout",
          "output_type": "stream",
          "text": [
            "Fitting 3 folds for each of 6336 candidates, totalling 19008 fits\n",
            "\n",
            "Los mejores parámetros son:\n",
            " {'class_weight': None, 'criterion': 'gini', 'max_depth': 4, 'min_samples_split': 75, 'splitter': 'best'} \n",
            "\n",
            "f1: 0.9169094884180286\n",
            "Tiempo de ejecución: 67.7s.\n"
          ]
        }
      ],
      "source": [
        "from sklearn.tree import DecisionTreeClassifier\n",
        "import numpy as np\n",
        "\n",
        "np.random.seed(100472092)\n",
        "# Espacio de búsqueda\n",
        "\n",
        "param_grid = {'max_depth': list(range(2, 24, 1)),\n",
        "              'min_samples_split':list(range(30, 101, 3)), \n",
        "              \"criterion\": [\"gini\", \"entropy\", \"log_loss\"],\n",
        "              \"splitter\": [\"best\", \"random\"], \n",
        "              \"class_weight\": [\"balanced\", None]}\n",
        "\n",
        "grid = GridSearchCV(DecisionTreeClassifier(),\n",
        "                         param_grid,\n",
        "                         scoring='f1',\n",
        "                         cv=kfold,\n",
        "                         n_jobs=-1,\n",
        "                         verbose=1)\n",
        "\n",
        "start = time()\n",
        "grid.fit(X=X_train, y=Y_train)\n",
        "end = time()\n",
        "\n",
        "print(\"\\nLos mejores parámetros son:\\n\", grid.best_params_, \"\\n\")\n",
        "\n",
        "f1_score[\"tree\"] = grid.best_score_\n",
        "\n",
        "print(\"f1:\", str(grid.best_score_))\n",
        "print(\"Tiempo de ejecución:\", str(round(end - start, 2)) + \"s.\")\n",
        "train_time[\"tree\"] = end - start "
      ]
    },
    {
      "cell_type": "code",
      "execution_count": 42,
      "metadata": {},
      "outputs": [
        {
          "data": {
            "image/png": "[encoded data removed]",
            "text/plain": [
              "<Figure size 640x480 with 1 Axes>"
            ]
          },
          "metadata": {},
          "output_type": "display_data"
        },
        {
          "data": {
            "image/png": "[encoded data removed]",
            "text/plain": [
              "<Figure size 640x480 with 1 Axes>"
            ]
          },
          "metadata": {},
          "output_type": "display_data"
        }
      ],
      "source": [
        "import matplotlib.pyplot as plt\n",
        "import seaborn as sns\n",
        "# Colores del diagrama\n",
        "colores = [\"blue\", \"red\", \"red\", \"red\", \"green\"]\n",
        "sns.set(font_scale=0.5)\n",
        "\n",
        "# Valores del mae\n",
        "titulos_mae = f1_score.keys()\n",
        "valores_mae = f1_score.values()\n",
        "titulos_time = train_time.keys()\n",
        "valores_time = train_time.values()\n",
        "\n",
        "# Plotear el mae\n",
        "sns.barplot(x=titulos_mae, y=valores_mae, width=0.6, palette=colores, hue=titulos_mae, legend=False)\n",
        "\n",
        "plt.xlabel(\"Modelos\")\n",
        "plt.ylabel(\"MAE\")\n",
        "plt.title(\"Modelos - F1 score\")\n",
        "\n",
        "plt.show()\n",
        "\n",
        "sns.barplot(x=titulos_time, y=valores_time, width=0.6, palette=colores, hue=titulos_time, legend=False)\n",
        "plt.xlabel(\"Modelos\")\n",
        "plt.ylabel(\"Time\")\n",
        "plt.title(\"Modelos - time\")\n",
        "plt.show()\n",
        "\n"
      ]
    },
    {
      "cell_type": "code",
      "execution_count": 55,
      "metadata": {},
      "outputs": [
        {
          "name": "stdout",
          "output_type": "stream",
          "text": [
            "0.899880810488677\n"
          ]
        },
        {
          "data": {
            "image/png": "[encoded data removed]",
            "text/plain": [
              "<Figure size 640x480 with 2 Axes>"
            ]
          },
          "metadata": {},
          "output_type": "display_data"
        }
      ],
      "source": [
        "from sklearn.metrics import f1_score\n",
        "from sklearn.metrics import confusion_matrix, ConfusionMatrixDisplay\n",
        "best = DecisionTreeClassifier(class_weight=None, criterion='gini', max_depth=4, min_samples_split=75, splitter='best')\n",
        "\n",
        "best.fit(X_train, Y_train)\n",
        "y_pred = best.predict(X_test)\n",
        "score = f1_score(Y_test, y_pred)\n",
        "matrix = confusion_matrix(Y_test, y_pred, labels=best.classes_)\n",
        "\n",
        "ConfusionMatrixDisplay(confusion_matrix=confusion_matrix(Y_test, y_pred), display_labels=best.classes_).plot()\n",
        "\n",
        "print(score)\n",
        "plt.show()"
      ]
    }
  ],
  "metadata": {
    "colab": {
      "provenance": []
    },
    "kernelspec": {
      "display_name": ".venv",
      "language": "python",
      "name": "python3"
    },
    "language_info": {
      "codemirror_mode": {
        "name": "ipython",
        "version": 3
      },
      "file_extension": ".py",
      "mimetype": "text/x-python",
      "name": "python",
      "nbconvert_exporter": "python",
      "pygments_lexer": "ipython3",
      "version": "3.11.8"
    }
  },
  "nbformat": 4,
  "nbformat_minor": 0
}
