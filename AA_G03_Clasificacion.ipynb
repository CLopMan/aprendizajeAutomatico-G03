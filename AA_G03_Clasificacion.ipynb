{
 "cells": [
  {
   "cell_type": "markdown",
   "metadata": {},
   "source": [
    "# **Modelo final - Grupo03**\n",
    "\n",
    "## **Authors**\n",
    "- César López Mantecón - 100472092\n",
    "- Manuel Gómez-Plana Rodríguez - 100472310\n",
    "\n",
    "## **Repositorio**\n",
    "Esta práctica se ha llevado a cabo en [este repositorio de github](https://github.com/CLopMan/aprendizajeAutomatico-G03)\n",
    "\n",
    "## Introducción \n",
    "[...]\n"
   ]
  },
  {
   "cell_type": "code",
   "execution_count": 39,
   "metadata": {},
   "outputs": [
    {
     "name": "stdout",
     "output_type": "stream",
     "text": [
      "1089.375\n",
      "3561\n"
     ]
    }
   ],
   "source": [
    "import pandas as pd \n",
    "\n",
    "\n",
    "raw_data = pd.read_csv(\"wind_ava.csv.gz\", compression='gzip') \n",
    "sotavento = raw_data.filter(regex='13$|energy|datetime') # eliminacion de instancias no referentes a Sotavento\n",
    "\n",
    "Q3 = sotavento[\"energy\"].quantile(0.75)\n",
    "Q3 = sotavento[\"energy\"].describe()[\"75%\"]\n",
    "\n",
    "print(Q3)\n",
    "\n",
    "sotavento.insert(1, \"energyTag\", [\"high\" for i in range(len(sotavento))])\n",
    "\n",
    "def myfunc(v):\n",
    "    if v < Q3:\n",
    "        return \"low\"\n",
    "    else:\n",
    "        return \"high\"\n",
    "cont = 0\n",
    "for i, v in enumerate(sotavento[\"energy\"]):\n",
    "    if v < Q3:\n",
    "        sotavento.loc[i, \"energyTag\"] = \"low\"\n",
    "        cont += 1\n",
    "print(cont)\n",
    "\n",
    "sotavento = sotavento.drop(\"energy\", axis=1)"
   ]
  }
 ],
 "metadata": {
  "kernelspec": {
   "display_name": ".venv",
   "language": "python",
   "name": "python3"
  },
  "language_info": {
   "codemirror_mode": {
    "name": "ipython",
    "version": 3
   },
   "file_extension": ".py",
   "mimetype": "text/x-python",
   "name": "python",
   "nbconvert_exporter": "python",
   "pygments_lexer": "ipython3",
   "version": "3.11.8"
  }
 },
 "nbformat": 4,
 "nbformat_minor": 2
}
