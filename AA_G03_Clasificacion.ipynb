{
  "cells": [
    {
      "cell_type": "markdown",
      "source": [
        "# **Modelos de clasificación - Grupo03**"
      ],
      "metadata": {
        "id": "GAmL3Bb2Fvi0"
      }
    },
    {
      "cell_type": "markdown",
      "source": [
        "## **Authors**\n",
        "\n",
        "- César López Mantecón - 100472092\n",
        "- Manuel Gómez-Plana Rodríguez - 100472310\n",
        "\n"
      ],
      "metadata": {
        "id": "YK4sxHUBFvcY"
      }
    },
    {
      "cell_type": "markdown",
      "source": [
        "## **Repositorio**\n",
        "\n",
        "Esta práctica se ha llevado a cabo en este [repositorio de github](https://github.com/CLopMan/aprendizajeAutomatico-G03)\n",
        "\n",
        "## **Introducción**\n",
        "\n",
        "En este cuaderno se resolverá un problema similar. Las instancias de energía se han clasificado en \"low\" o \"high\" según si su valor es inferior o superior al valor del tercer cuartil. En este cuaderno trataremos de entrenar un modelo capaz de clasificar nuevas instancias en estas clases.\n",
        "\n",
        "# **1. Transformación de datos**\n",
        "\n",
        "El primer paso para el problema de clasificación es aplicar una transformación a la variable de salida. Es por ello que calculamos el tercer cuantil y transformamos la variable de salida respecto a este, asignandno el valor 0 para valores altos y 1 para valores bajos.\n",
        "\n",
        "Esta asignación se debe a que existen algunos modelos que no pueden lidiar con valores categóricos, por lo que se decide hacer una representación numérica."
      ],
      "metadata": {
        "id": "EW5DK7qyFvRJ"
      }
    },
    {
      "cell_type": "code",
      "source": [
        "# Para ejecutar el cuaderno en drive\n",
        "from google.colab import drive\n",
        "import pandas as pd\n",
        "\n",
        "drive.mount('/content/drive')\n",
        "raw_data = pd.read_csv(\"/content/drive/MyDrive/wind_ava.csv\") # acceder al csv en drive"
      ],
      "metadata": {
        "colab": {
          "base_uri": "https://localhost:8080/"
        },
        "id": "jt1inLnmd3ic",
        "outputId": "c583e54c-ff10-453e-8487-81081412faf3"
      },
      "execution_count": 1,
      "outputs": [
        {
          "output_type": "stream",
          "name": "stdout",
          "text": [
            "Mounted at /content/drive\n"
          ]
        }
      ]
    },
    {
      "cell_type": "code",
      "execution_count": 2,
      "metadata": {
        "id": "-K8Crt_AFmtB"
      },
      "outputs": [],
      "source": [
        "import pandas as pd\n",
        "\n",
        "#raw_data = pd.read_csv(\"wind_ava.csv.gz\", compression='gzip') # acceder al gz en local\n",
        "sotavento = raw_data.filter(regex='13$|energy|datetime') # eliminacion de instancias no referentes a Sotavento\n",
        "\n",
        "Q3 = sotavento[\"energy\"].quantile(0.75)\n",
        "sotavento.insert(1, \"energyTag\", [0 for i in range(len(sotavento))])\n",
        "\n",
        "cont = 0\n",
        "for i, v in enumerate(sotavento[\"energy\"]):\n",
        "    if v < Q3:\n",
        "        sotavento.loc[i, \"energyTag\"] = 1\n",
        "        cont += 1\n",
        "\n",
        "sotavento = sotavento.drop(\"energy\", axis=1)"
      ]
    },
    {
      "cell_type": "markdown",
      "source": [
        "# **2. Clases desbalanceadas**\n",
        "\n",
        "Si observamos los valores de energyTag, la nueva columna del dataframe que indica la clase de cada instancia, podemos ver que las clases están desbalanceadas.\n"
      ],
      "metadata": {
        "id": "Nu0w61LBZkxe"
      }
    },
    {
      "cell_type": "code",
      "source": [
        "print(f\"Número de instancias \\'low\\': {cont}\\nNúmero de instancias \\'high\\':{len(sotavento) - cont}\")\n",
        "\n",
        "sotavento[\"energyTag\"].value_counts().plot(kind=\"pie\")"
      ],
      "metadata": {
        "colab": {
          "base_uri": "https://localhost:8080/",
          "height": 458
        },
        "id": "Rfw7t4qZZknX",
        "outputId": "741c9f4e-eb78-452f-d0f3-86b6b929feb5"
      },
      "execution_count": 3,
      "outputs": [
        {
          "output_type": "stream",
          "name": "stdout",
          "text": [
            "Número de instancias 'low': 3561\n",
            "Número de instancias 'high':1187\n"
          ]
        },
        {
          "output_type": "execute_result",
          "data": {
            "text/plain": [
              "<Axes: ylabel='count'>"
            ]
          },
          "metadata": {},
          "execution_count": 3
        },
        {
          "output_type": "display_data",
          "data": {
            "text/plain": [
              "<Figure size 640x480 with 1 Axes>"
            ],
            "image/png": "[encoded data removed]"
          },
          "metadata": {}
        }
      ]
    },
    {
      "cell_type": "markdown",
      "source": [
        "Es por ello que tenemos que tener en cuenta este desbalanceo, y posteriormente hablaremos sus efectos.\n",
        "\n",
        "## **2.1. División entre train y test**\n",
        "Para poder hacer los modelos de clasificación, primero, necesitaremos dividir el dataset entre las particiones de train y test.\n"
      ],
      "metadata": {
        "id": "yDeoN09VZkd4"
      }
    },
    {
      "cell_type": "code",
      "source": [
        "from sklearn.model_selection import train_test_split\n",
        "\n",
        "size = 0\n",
        "\n",
        "res = pd.to_datetime(sotavento[\"datetime\"], unit='ns').astype(str)\n",
        "\n",
        "for ind, data in res.items():\n",
        "  if data.startswith(\"2008\") or data.startswith(\"2009\"):\n",
        "    size += 1\n",
        "\n",
        "print(\"Hay\", str(size), \"instancias de 2008 y 2009\")\n",
        "\n",
        "# Se obtienen los datos\n",
        "X = sotavento.drop([\"energyTag\", \"datetime\"], axis=\"columns\")\n",
        "Y = sotavento[[\"energyTag\"]]\n",
        "\n",
        "train, test = train_test_split(sotavento, test_size=size, shuffle=False)\n",
        "\n",
        "X_train = train.drop([\"energyTag\", \"datetime\"], axis=\"columns\")\n",
        "Y_train = train[[\"energyTag\"]]\n",
        "X_test = test.drop([\"energyTag\", \"datetime\"], axis=\"columns\")\n",
        "Y_test = test[[\"energyTag\"]]"
      ],
      "metadata": {
        "colab": {
          "base_uri": "https://localhost:8080/"
        },
        "id": "Sr7bST3IaD4G",
        "outputId": "8b4b3edb-bcaf-4517-a3fc-c60d7c2b1890"
      },
      "execution_count": 4,
      "outputs": [
        {
          "output_type": "stream",
          "name": "stdout",
          "text": [
            "Hay 1099 instancias de 2008 y 2009\n"
          ]
        }
      ]
    },
    {
      "cell_type": "markdown",
      "source": [
        "## **2.2 Dummy**\n",
        "Tras las particiones, crearemos un clasificacidor dummy, con el cual compararemos los resultados de nuestros modelos. De esta manera, podremos observar si hay alguna mejora con respecto a este."
      ],
      "metadata": {
        "id": "aBHyNBhxOFxm"
      }
    },
    {
      "cell_type": "code",
      "source": [
        "from sklearn.dummy import DummyClassifier\n",
        "from sklearn.metrics import f1_score\n",
        "\n",
        "# Generar datos de ejemplo\n",
        "dummy_classifier = DummyClassifier(strategy=\"most_frequent\")\n",
        "dummy_classifier.fit(X_train, Y_train)\n",
        "\n",
        "\n",
        "# Predecir con el conjunto de prueba\n",
        "dummy_pred = dummy_classifier.predict(X_test)\n",
        "\n",
        "# Calcular la precisión\n",
        "f1 = f1_score(Y_test, dummy_pred)\n",
        "print(\"Precisión del clasificador dummy:\", f1)"
      ],
      "metadata": {
        "id": "hxv-6jgbOJOm",
        "colab": {
          "base_uri": "https://localhost:8080/"
        },
        "outputId": "d5e7d361-8d49-401c-dc50-8fe8602ac17e"
      },
      "execution_count": 5,
      "outputs": [
        {
          "output_type": "stream",
          "name": "stdout",
          "text": [
            "Precisión del clasificador dummy: 0.851619644723093\n"
          ]
        }
      ]
    },
    {
      "cell_type": "markdown",
      "source": [
        "# **3. Evaluación del modelo**\n",
        "Para poder realizar modelos de clasificación, es necesario clarificar las métricas que usaremos, además de cómo realizaremos la evaluación inner y la evaluación outer.\n",
        "\n",
        "## **3.1 Evaluación Inner**\n",
        "\n",
        "Utilizaremos validación cruzada con k = 3 para la evaluación inner. Descartamos usar time series split debido a la nueva naturaleza del problema, es decir, una serie estática donde el tiempo no influye en los resultados.\n",
        "\n",
        "## **3.2 Evaluación Outer**\n",
        "Para la evaluación outer, hemos hecho un split dejando 2007 y 2008 para evaluar y el resto de años para entrenar. Esto se ve reflejado en el apartado 2.1.\n",
        "\n",
        "## **3.3 Métricas de evaluación**\n",
        "\n",
        "Para evaluar el modelo, emplearemos la métrica de *f1-score* debido a que se trata de un problema con clases desbalanceadas. Esta métrica no es sensible al desequilibrio de clases, ya que usa una media armónica. Es por esto y por la naturaleza de nuestro dataset, que usaremos esta métrica.\n",
        "\n"
      ],
      "metadata": {
        "id": "PH5HEXL0aS1P"
      }
    },
    {
      "cell_type": "markdown",
      "source": [
        "# **4. Modelos de clasificación**\n",
        "En este apartado, aparecen los modelos de clasificación, con los que hemos hecho HPO para determinar los mejores hiperparámetros. Los modelos usados son los mismos que hemos usado en el apartado anterior, excepto la regresión.\n",
        "\n",
        "Por útlimo, compararemos los modelos para determinar cuál de todos es el mejor.\n",
        "\n",
        "## **4.1. K-folds**\n",
        "Lo primero que deberemos hacer crear el objeto de K-folds, el cual usaremos en la evaluación inner de cada uno de los modelos. Debido a la amplia cantidad de datos con los que disponemos, creemos que realizar tres particiones es adecuado."
      ],
      "metadata": {
        "id": "VubhVijKbHn1"
      }
    },
    {
      "cell_type": "code",
      "source": [
        "from sklearn.model_selection import KFold\n",
        "\n",
        "kfold = KFold(3)\n",
        "\n",
        "# Diccionarios donde guardaremos los datos para plotearlos\n",
        "f1_score = {}\n",
        "train_time = {}"
      ],
      "metadata": {
        "id": "vtQ0nYYXcIpV"
      },
      "execution_count": 6,
      "outputs": []
    },
    {
      "cell_type": "markdown",
      "source": [
        "## **4.2. KNN**\n",
        "\n",
        "El primer modelo a evaluar es el KNN, el cuál creemos que dará un buen rendimiento debido al algoritmo que usa. Este modelo tomará los n vecinos más cercanos para determinar la variable de salida."
      ],
      "metadata": {
        "id": "uW1HB4DFTUww"
      }
    },
    {
      "cell_type": "code",
      "source": [
        "# Knn\n",
        "from sklearn.neighbors import KNeighborsClassifier\n",
        "from sklearn.pipeline import Pipeline\n",
        "from sklearn.preprocessing import StandardScaler\n",
        "from sklearn.model_selection import GridSearchCV\n",
        "from time import time\n",
        "\n",
        "\n",
        "pipe = Pipeline([\n",
        "      ('scaler', StandardScaler()),\n",
        "      ('knn', KNeighborsClassifier())\n",
        "      ])\n",
        "\n",
        "# Se crean los parametros\n",
        "param_grid = {\"knn__n_neighbors\": list(range(10, 40, 2)),\n",
        "              \"knn__weights\": [\"uniform\", \"distance\"],\n",
        "              \"knn__algorithm\": [\"auto\", \"ball_tree\", \"kd_tree\", \"brute\"],\n",
        "              \"knn__metric\": [\"euclidean\", \"manhattan\", \"chebyshev\"]\n",
        "              }\n",
        "\n",
        "# Se realiza la HPO\n",
        "grid = GridSearchCV(pipe,\n",
        "                    param_grid,\n",
        "                    cv=3,\n",
        "                    scoring=\"f1\",\n",
        "                    verbose=1,\n",
        "                    n_jobs=-1)\n",
        "start = time()\n",
        "grid.fit(X_train, Y_train.values.ravel())\n",
        "end = time()\n",
        "\n",
        "print(\"\\nLos mejores parámetros son:\\n\", grid.best_params_, \"\\n\")\n",
        "\n",
        "\n",
        "\n",
        "f1_score[\"knn\"] = grid.best_score_\n",
        "\n",
        "print(f\"f1-score: {grid.best_score_}\")\n",
        "print(\"Tiempo de entrenamiento:\", str(round(end-start, 2)) + \"s.\")\n",
        "train_time[\"knn\"] = end - start"
      ],
      "metadata": {
        "colab": {
          "base_uri": "https://localhost:8080/"
        },
        "id": "uAFelejlTAnV",
        "outputId": "ac7f7f86-0e6b-41b7-d2c5-8a94392b56bc"
      },
      "execution_count": 7,
      "outputs": [
        {
          "output_type": "stream",
          "name": "stdout",
          "text": [
            "Fitting 3 folds for each of 360 candidates, totalling 1080 fits\n",
            "\n",
            "Los mejores parámetros son:\n",
            " {'knn__algorithm': 'auto', 'knn__metric': 'manhattan', 'knn__n_neighbors': 38, 'knn__weights': 'distance'} \n",
            "\n",
            "f1-score: 0.906229890058098\n",
            "Tiempo de entrenamiento: 158.06s.\n"
          ]
        }
      ]
    },
    {
      "cell_type": "markdown",
      "source": [
        "Como podemos observar, la f1-score del KNN es un resultado muy bueno, y conseguido relativamente rápido. Además, mejora el clasificador dummy, por lo tanto observamos que este es un buen modelo."
      ],
      "metadata": {
        "id": "K_MhelVyCl5R"
      }
    },
    {
      "cell_type": "markdown",
      "source": [
        "## **4.3. Árbol de decisión**\n",
        "El siguiente modelo a entrenar es el árbol de búsqueda, el cual pensamos que puede proporcionar buenos resultados, dada la naturaleza del problema y los resultados en el caso de la regresión."
      ],
      "metadata": {
        "id": "jdTkLJftkvNg"
      }
    },
    {
      "cell_type": "code",
      "source": [
        "\n",
        "\n",
        "from sklearn.tree import DecisionTreeClassifier\n",
        "import numpy as np\n",
        "\n",
        "np.random.seed(100472092)\n",
        "# Espacio de búsqueda\n",
        "\n",
        "param_grid = {'max_depth': list(range(2, 24, 1)),\n",
        "              'min_samples_split':list(range(30, 101, 3)),\n",
        "              \"criterion\": [\"gini\", \"entropy\", \"log_loss\"],\n",
        "              \"splitter\": [\"best\", \"random\"],\n",
        "              \"class_weight\": [\"balanced\", None]}\n",
        "\n",
        "grid = GridSearchCV(DecisionTreeClassifier(),\n",
        "                         param_grid,\n",
        "                         scoring='f1',\n",
        "                         cv=kfold,\n",
        "                         n_jobs=-1,\n",
        "                         verbose=1)\n",
        "\n",
        "start = time()\n",
        "grid.fit(X=X_train, y=Y_train)\n",
        "end = time()\n",
        "\n",
        "print(\"\\nLos mejores parámetros son:\\n\", grid.best_params_, \"\\n\")\n",
        "\n",
        "f1_score[\"tree\"] = grid.best_score_\n",
        "\n",
        "print(\"f1:\", str(grid.best_score_))\n",
        "print(\"Tiempo de ejecución:\", str(round(end - start, 2)) + \"s.\")\n",
        "train_time[\"tree\"] = end - start\n",
        "\n"
      ],
      "metadata": {
        "colab": {
          "base_uri": "https://localhost:8080/"
        },
        "id": "RuLfcEsKkoE-",
        "outputId": "73862d56-bad8-4304-fc98-19fff45c274e"
      },
      "execution_count": 8,
      "outputs": [
        {
          "output_type": "stream",
          "name": "stdout",
          "text": [
            "Fitting 3 folds for each of 6336 candidates, totalling 19008 fits\n",
            "\n",
            "Los mejores parámetros son:\n",
            " {'class_weight': None, 'criterion': 'gini', 'max_depth': 4, 'min_samples_split': 75, 'splitter': 'best'} \n",
            "\n",
            "f1: 0.9169094884180286\n",
            "Tiempo de ejecución: 687.89s.\n"
          ]
        }
      ]
    },
    {
      "cell_type": "markdown",
      "source": [
        "De manera similar al KNN, el árbol ha sacado muy buenos resultados, incluso mejores que el modelo anterior. Es también destacable que es mejor que el dummy y mucho más rápido que el KNN dado el número de fits entrenado en el corto tiempo."
      ],
      "metadata": {
        "id": "ttJOaIJlDKA5"
      }
    },
    {
      "cell_type": "markdown",
      "source": [
        "## **4.4 SVM**\n",
        "Usaremos un SVM para este apartado. De la misma manera que con el SVR, haremos la evaluación con tres modelos distintos, uno con cada tipo de kernel, para evitar combinaciones innecesarias y así ahorra tiempo de entrenamiento."
      ],
      "metadata": {
        "id": "4b4cP3UrbGP_"
      }
    },
    {
      "cell_type": "code",
      "source": [
        "from sklearn.svm import SVC\n",
        "\n",
        "kernels = [\"linear\", \"poly\", \"rbf\"]\n",
        "\n",
        "# Hiperparámetros kernel lineal\n",
        "param_grid_linear = {\n",
        "              \"svm__C\": [1, 10, 100],\n",
        "              }\n",
        "\n",
        "# Hiperparámetros kernel poly\n",
        "param_grid_poly = {\n",
        "              \"svm__C\": [1, 10, 100],\n",
        "              \"svm__degree\": list(range(1,4,1)),\n",
        "              \"svm__gamma\": [\"scale\", \"auto\"],\n",
        "              \"svm__coef0\": [0.0, 0.1]\n",
        "              }\n",
        "\n",
        "# Hiperparámetros kernel rbf\n",
        "param_grid_rbf = {\n",
        "              \"svm__C\": [1, 10, 100],\n",
        "              \"svm__gamma\": [\"scale\", \"auto\"]\n",
        "              }\n",
        "\n",
        "for k in kernels:\n",
        "  print(\"==========Kernel\", k + \"==========\")\n",
        "\n",
        "  # Se crea el regresor con kernel\n",
        "  svm = SVC(kernel=k)\n",
        "\n",
        "  # Se crea la pipeline\n",
        "  pipe = Pipeline([\n",
        "        ('scaler', StandardScaler()),\n",
        "        ('svm', svm)\n",
        "        ])\n",
        "\n",
        "  # Se realiza la HPO\n",
        "  match(k):\n",
        "    case \"linear\":\n",
        "      param_grid = param_grid_linear\n",
        "\n",
        "    case \"poly\":\n",
        "      param_grid = param_grid_poly\n",
        "\n",
        "    case \"rbf\":\n",
        "      param_grid = param_grid_rbf\n",
        "\n",
        "  grid = GridSearchCV(pipe,\n",
        "                      param_grid,\n",
        "                      cv=kfold,\n",
        "                      scoring=\"f1\",\n",
        "                      verbose=1,\n",
        "                      n_jobs=-1)\n",
        "\n",
        "  start = time()\n",
        "  grid.fit(X_train, Y_train.values.ravel())\n",
        "  end = time()\n",
        "\n",
        "  print(\"\\nLos mejores parámetros son:\\n\", grid.best_params_, \"\\n\")\n",
        "\n",
        "  # Se obtiene el f1 del mejor modelo\n",
        "  f1 = grid.best_score_\n",
        "\n",
        "  f1_score[\"svm_\"+k] = grid.best_score_\n",
        "  print(\"F1_score:\", str(f1))\n",
        "  print(\"Tiempo de entrenamiento:\", str(round(end-start,2)) + \"s.\")\n",
        "  train_time[\"svm_\"+k] = end - start"
      ],
      "metadata": {
        "colab": {
          "base_uri": "https://localhost:8080/"
        },
        "id": "C5DlRNwjbGHL",
        "outputId": "b0f00d91-bfac-4ab1-f373-a20048428c60"
      },
      "execution_count": 9,
      "outputs": [
        {
          "output_type": "stream",
          "name": "stdout",
          "text": [
            "==========Kernel linear==========\n",
            "Fitting 3 folds for each of 3 candidates, totalling 9 fits\n",
            "\n",
            "Los mejores parámetros son:\n",
            " {'svm__C': 1} \n",
            "\n",
            "F1_score: 0.8970416467725707\n",
            "Tiempo de entrenamiento: 34.85s.\n",
            "==========Kernel poly==========\n",
            "Fitting 3 folds for each of 36 candidates, totalling 108 fits\n",
            "\n",
            "Los mejores parámetros son:\n",
            " {'svm__C': 1, 'svm__coef0': 0.1, 'svm__degree': 2, 'svm__gamma': 'scale'} \n",
            "\n",
            "F1_score: 0.9171918280799115\n",
            "Tiempo de entrenamiento: 44.75s.\n",
            "==========Kernel rbf==========\n",
            "Fitting 3 folds for each of 6 candidates, totalling 18 fits\n",
            "\n",
            "Los mejores parámetros son:\n",
            " {'svm__C': 1, 'svm__gamma': 'scale'} \n",
            "\n",
            "F1_score: 0.9140890627868038\n",
            "Tiempo de entrenamiento: 6.34s.\n"
          ]
        }
      ]
    },
    {
      "cell_type": "markdown",
      "source": [
        "Vemos que el SVM con el kernel polinomial es el mejor de los tres SVM. Si bien todos mejoran respecto del dummy, el kernel polinomial consigue un ligero mejor resultado respecto a los otros.\n",
        "\n",
        "Cabe destacar también el alto tiempo de entrenamiento dada la cantidad de fits del kernel lineal."
      ],
      "metadata": {
        "id": "4dfFgdpMDaV9"
      }
    },
    {
      "cell_type": "markdown",
      "source": [
        "## **4.5 Modelo final**\n",
        "Para elegir el mejor modelo, dibujaremos los errores y los tiempos de entrenamiento de cada uno de los modelos en dos diagramas de barras. Tras esto, elegiremos el mejor modelo de clasifcación."
      ],
      "metadata": {
        "id": "qIw2rDKUbF9S"
      }
    },
    {
      "cell_type": "code",
      "source": [
        "import matplotlib.pyplot as plt\n",
        "import seaborn as sns\n",
        "# Colores del diagrama\n",
        "colores = [\"blue\", \"red\", \"red\", \"red\", \"green\"]\n",
        "sns.set(font_scale=0.5)\n",
        "\n",
        "# Valores del mae\n",
        "titulos_mae = f1_score.keys()\n",
        "valores_mae = f1_score.values()\n",
        "titulos_time = train_time.keys()\n",
        "valores_time = train_time.values()\n",
        "\n",
        "# Plotear el mae\n",
        "sns.barplot(x=titulos_mae, y=valores_mae, width=0.6, palette=colores, hue=titulos_mae, legend=False)\n",
        "\n",
        "plt.xlabel(\"Modelos\")\n",
        "plt.ylabel(\"MAE\")\n",
        "plt.title(\"Modelos - MAE\")\n",
        "\n",
        "plt.show()\n",
        "\n",
        "sns.barplot(x=titulos_time, y=valores_time, width=0.6, palette=colores, hue=titulos_time, legend=False)\n",
        "plt.xlabel(\"Modelos\")\n",
        "plt.ylabel(\"Time\")\n",
        "plt.title(\"Modelos - time\")\n",
        "plt.show()"
      ],
      "metadata": {
        "colab": {
          "base_uri": "https://localhost:8080/",
          "height": 899
        },
        "id": "bh0RWYFdlYak",
        "outputId": "57a40c9d-2b72-4153-eed6-611ce85dd864"
      },
      "execution_count": 10,
      "outputs": [
        {
          "output_type": "display_data",
          "data": {
            "text/plain": [
              "<Figure size 640x480 with 1 Axes>"
            ],
            "image/png": "[encoded data removed]"
          },
          "metadata": {}
        },
        {
          "output_type": "display_data",
          "data": {
            "text/plain": [
              "<Figure size 640x480 with 1 Axes>"
            ],
            "image/png": "[encoded data removed]"
          },
          "metadata": {}
        }
      ]
    },
    {
      "cell_type": "markdown",
      "source": [
        "Como se puede observar, el mejor modelo con la *f1_score* es SVM con kernel *poly*.\n",
        "\n",
        "## **4.6 Modelo final y matriz de correlación**\n",
        "Para ver la calidad del modelo final, usaremos la matriz de correlación. Como se puede observar, la score final es prácticamente de 0.9, acertando muchos *tue positive* y *true negative*.\n",
        "\n",
        "Sin embargo, también observamos que las clases instanciadas como *high* tienen un alto número de *false positive*, lo cual nos hace inducir que el modelo no termina de clasificar correctamente las clases desbalanceadas.\n",
        "\n",
        "Es necesario mencionar el hecho de que, a pesar de los resultados anteriormente expuestos, el mejor resultado para este modelo final ha resultado siendo con el árbol. Es por ello que hemos decidido usar este para el modelo final, ya que tiene un valor muy cercano al SVM con kernel *poly* en el entrenamiento, pero su resultado final es mejor."
      ],
      "metadata": {
        "id": "736xt0hyl_PJ"
      }
    },
    {
      "cell_type": "code",
      "source": [
        "from sklearn.metrics import f1_score\n",
        "from sklearn.metrics import confusion_matrix, ConfusionMatrixDisplay\n",
        "best = DecisionTreeClassifier(class_weight=None, criterion='gini', max_depth=4, min_samples_split=75, splitter='best')\n",
        "\n",
        "best.fit(X_train, Y_train)\n",
        "y_pred = best.predict(X_test)\n",
        "score = f1_score(Y_test, y_pred)\n",
        "matrix = confusion_matrix(Y_test, y_pred, labels=best.classes_)\n",
        "\n",
        "ConfusionMatrixDisplay(confusion_matrix=confusion_matrix(Y_test, y_pred), display_labels=best.classes_).plot()\n",
        "\n",
        "print(score)\n",
        "plt.show()"
      ],
      "metadata": {
        "colab": {
          "base_uri": "https://localhost:8080/",
          "height": 460
        },
        "id": "aDhAlr4bleC1",
        "outputId": "1e535ffe-c7c1-4f05-8ae7-b27952e6b3e5"
      },
      "execution_count": 13,
      "outputs": [
        {
          "output_type": "stream",
          "name": "stdout",
          "text": [
            "0.899880810488677\n"
          ]
        },
        {
          "output_type": "display_data",
          "data": {
            "text/plain": [
              "<Figure size 640x480 with 2 Axes>"
            ],
            "image/png": "[encoded data removed]"
          },
          "metadata": {}
        }
      ]
    }
  ],
  "metadata": {
    "kernelspec": {
      "display_name": ".venv",
      "language": "python",
      "name": "python3"
    },
    "language_info": {
      "codemirror_mode": {
        "name": "ipython",
        "version": 3
      },
      "file_extension": ".py",
      "mimetype": "text/x-python",
      "name": "python",
      "nbconvert_exporter": "python",
      "pygments_lexer": "ipython3",
      "version": "3.11.8"
    },
    "colab": {
      "provenance": []
    }
  },
  "nbformat": 4,
  "nbformat_minor": 0
}