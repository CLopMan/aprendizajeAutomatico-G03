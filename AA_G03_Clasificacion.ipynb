{
 "cells": [
  {
   "cell_type": "markdown",
   "metadata": {},
   "source": [
    "# **Modelo final - Grupo03**\n",
    "\n",
    "## **Authors**\n",
    "- César López Mantecón - 100472092\n",
    "- Manuel Gómez-Plana Rodríguez - 100472310\n",
    "\n",
    "## **Repositorio**\n",
    "Esta práctica se ha llevado a cabo en [este repositorio de github](https://github.com/CLopMan/aprendizajeAutomatico-G03)\n",
    "\n",
    "## Introducción \n",
    "En este cuaderno se resolverá un problema similar. Las instancias de energía se han clasificado en \"low\" o \"high\" según si su valor es inferior o superior al valor del tercer cuartil. En este cuaderno trataremos de entrenar un modelo capaz de clasificar nuevas instancias en estas clases. \n"
   ]
  },
  {
   "cell_type": "code",
   "execution_count": 1,
   "metadata": {},
   "outputs": [],
   "source": [
    "import pandas as pd \n",
    "\n",
    "\n",
    "raw_data = pd.read_csv(\"wind_ava.csv.gz\", compression='gzip') \n",
    "sotavento = raw_data.filter(regex='13$|energy|datetime') # eliminacion de instancias no referentes a Sotavento\n",
    "\n",
    "Q3 = sotavento[\"energy\"].quantile(0.75)\n",
    "sotavento.insert(1, \"energyTag\", [\"high\" for i in range(len(sotavento))])\n",
    "\n",
    "def myfunc(v):\n",
    "    if v < Q3:\n",
    "        return \"low\"\n",
    "    else:\n",
    "        return \"high\"\n",
    "cont = 0\n",
    "for i, v in enumerate(sotavento[\"energy\"]):\n",
    "    if v < Q3:\n",
    "        sotavento.loc[i, \"energyTag\"] = \"low\"\n",
    "        cont += 1\n",
    "sotavento = sotavento.drop(\"energy\", axis=1)\n"
   ]
  },
  {
   "cell_type": "markdown",
   "metadata": {},
   "source": [
    "## Clases desbalanceadas\n",
    "Si observamos los valores de `energyTag`, la nueva columna del dataframe que indica la clase de cada instancia, podemos ver que las clases están desbalanceadas. "
   ]
  },
  {
   "cell_type": "code",
   "execution_count": 2,
   "metadata": {},
   "outputs": [
    {
     "name": "stdout",
     "output_type": "stream",
     "text": [
      "Número de instancias 'low': 3561\n",
      "Número de instancias 'high':1187\n"
     ]
    },
    {
     "data": {
      "text/plain": [
       "<Axes: ylabel='count'>"
      ]
     },
     "execution_count": 2,
     "metadata": {},
     "output_type": "execute_result"
    },
    {
     "data": {
      "image/png": "[encoded data removed]",
      "text/plain": [
       "<Figure size 640x480 with 1 Axes>"
      ]
     },
     "metadata": {},
     "output_type": "display_data"
    }
   ],
   "source": [
    "print(f\"Número de instancias \\'low\\': {cont}\\nNúmero de instancias \\'high\\':{len(sotavento) - cont}\")\n",
    "\n",
    "sotavento[\"energyTag\"].value_counts().plot(kind=\"pie\")"
   ]
  },
  {
   "cell_type": "markdown",
   "metadata": {},
   "source": [
    "# División entre train y test "
   ]
  },
  {
   "cell_type": "code",
   "execution_count": 3,
   "metadata": {},
   "outputs": [
    {
     "name": "stdout",
     "output_type": "stream",
     "text": [
      "Hay 1099 instancias de 2008 y 2009\n"
     ]
    }
   ],
   "source": [
    "from sklearn.model_selection import train_test_split\n",
    "\n",
    "size = 0\n",
    "\n",
    "res = pd.to_datetime(sotavento[\"datetime\"], unit='ns').astype(str)\n",
    "\n",
    "for ind, data in res.items():\n",
    "  if data.startswith(\"2008\") or data.startswith(\"2009\"):\n",
    "    size += 1\n",
    "\n",
    "print(\"Hay\", str(size), \"instancias de 2008 y 2009\")\n",
    "\n",
    "# Se obtienen los datos\n",
    "X = sotavento.drop([\"energyTag\", \"datetime\"], axis=\"columns\")\n",
    "Y = sotavento[[\"energyTag\"]]\n",
    "\n",
    "train, test = train_test_split(sotavento, test_size=size, shuffle=False)\n",
    "\n",
    "X_train = train.drop([\"energyTag\", \"datetime\"], axis=\"columns\")\n",
    "Y_train = train[[\"energyTag\"]]\n",
    "X_test = test.drop([\"energyTag\", \"datetime\"], axis=\"columns\")\n",
    "Y_test = test[[\"energyTag\"]]"
   ]
  },
  {
   "cell_type": "markdown",
   "metadata": {},
   "source": [
    "# SMOTE \n",
    "Debido al desbalanceo entre clases es necesario utilizar algún mecanismo para evitar que el modelo final esté sesgado. "
   ]
  },
  {
   "cell_type": "code",
   "execution_count": 4,
   "metadata": {},
   "outputs": [
    {
     "name": "stdout",
     "output_type": "stream",
     "text": [
      "After OverSampling, the shape of train_X: (5492, 22)\n",
      "After OverSampling, the shape of train_y: (5492, 1) \n",
      "\n"
     ]
    },
    {
     "data": {
      "text/plain": [
       "<Axes: ylabel='count'>"
      ]
     },
     "execution_count": 4,
     "metadata": {},
     "output_type": "execute_result"
    },
    {
     "data": {
      "image/png": "[encoded data removed]",
      "text/plain": [
       "<Figure size 640x480 with 1 Axes>"
      ]
     },
     "metadata": {},
     "output_type": "display_data"
    }
   ],
   "source": [
    "from imblearn.over_sampling import SMOTE\n",
    "\n",
    "sm = SMOTE(random_state = 100472310) \n",
    "X_train_res, y_train_res = sm.fit_resample(X_train, Y_train) \n",
    "  \n",
    "print('After OverSampling, the shape of train_X: {}'.format(X_train_res.shape)) \n",
    "print('After OverSampling, the shape of train_y: {} \\n'.format(y_train_res.shape)) \n",
    "  \n",
    "\n",
    "y_train_res.value_counts().plot(kind=\"pie\")\n"
   ]
  },
  {
   "cell_type": "markdown",
   "metadata": {},
   "source": [
    "# Evaluación del modelo \n",
    "\n",
    "## Evaluación Inner\n",
    "Utilizaremos validación cruzada con k = 3. \n",
    "Descartamos usar time series split debido a la nueva naturaleza del problema. \n",
    "\n",
    "## Evaluación Outer\n",
    "\n",
    "Para evaular el modelo utilizaremos la métrica de `F1-score` debido a que se trata de un problema con clases desbalanceadas. Esta métrica no es sensible al desequilibrio de clases.  "
   ]
  },
  {
   "cell_type": "markdown",
   "metadata": {},
   "source": [
    "# Modelos\n"
   ]
  },
  {
   "cell_type": "code",
   "execution_count": 5,
   "metadata": {},
   "outputs": [],
   "source": [
    "f1_score = {}\n",
    "train_time = {}"
   ]
  },
  {
   "cell_type": "code",
   "execution_count": 10,
   "metadata": {},
   "outputs": [
    {
     "name": "stdout",
     "output_type": "stream",
     "text": [
      "Fitting 3 folds for each of 360 candidates, totalling 1080 fits\n",
      "\n",
      "Los mejores parámetros son:\n",
      " {'knn__algorithm': 'auto', 'knn__metric': 'manhattan', 'knn__n_neighbors': 27, 'knn__weights': 'uniform'} \n",
      "\n",
      "f1-score: 0.8514682350906023\n",
      "Tiempo de entrenamiento: 11.36s.\n"
     ]
    }
   ],
   "source": [
    "# Knn \n",
    "from sklearn.neighbors import KNeighborsClassifier\n",
    "from sklearn.pipeline import Pipeline\n",
    "from sklearn.preprocessing import StandardScaler\n",
    "from sklearn.model_selection import GridSearchCV\n",
    "from time import time\n",
    "\n",
    "\n",
    "pipe = Pipeline([\n",
    "      ('scaler', StandardScaler()),\n",
    "      ('knn', KNeighborsClassifier())\n",
    "      ])\n",
    "\n",
    "# Se crean los parametros\n",
    "param_grid = {\"knn__n_neighbors\": list(range(10, 40, 2)),\n",
    "              \"knn__weights\": [\"uniform\", \"distance\"],\n",
    "              \"knn__algorithm\": [\"auto\", \"ball_tree\", \"kd_tree\", \"brute\"],\n",
    "              \"knn__metric\": [\"euclidean\", \"manhattan\", \"chebyshev\"]\n",
    "              }\n",
    "\n",
    "# Se realiza la HPO\n",
    "grid = GridSearchCV(pipe,\n",
    "                    param_grid,\n",
    "                    cv=3,\n",
    "                    scoring=\"f1_micro\",\n",
    "                    verbose=1,\n",
    "                    n_jobs=-1)\n",
    "start = time()\n",
    "grid.fit(X_train, Y_train.values.ravel())\n",
    "end = time()\n",
    "\n",
    "print(\"\\nLos mejores parámetros son:\\n\", grid.best_params_, \"\\n\")\n",
    "\n",
    "\n",
    "\n",
    "f1_score[\"knn\"] = grid.best_score_\n",
    "\n",
    "print(f\"f1-score: {grid.best_score_}\")\n",
    "print(\"Tiempo de entrenamiento:\", str(round(end-start, 2)) + \"s.\")\n",
    "train_time[\"knn\"] = end - start "
   ]
  }
 ],
 "metadata": {
  "kernelspec": {
   "display_name": ".venv",
   "language": "python",
   "name": "python3"
  },
  "language_info": {
   "codemirror_mode": {
    "name": "ipython",
    "version": 3
   },
   "file_extension": ".py",
   "mimetype": "text/x-python",
   "name": "python",
   "nbconvert_exporter": "python",
   "pygments_lexer": "ipython3",
   "version": "3.11.8"
  }
 },
 "nbformat": 4,
 "nbformat_minor": 2
}
